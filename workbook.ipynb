{
 "cells": [
  {
   "cell_type": "code",
   "execution_count": 1,
   "metadata": {},
   "outputs": [],
   "source": [
    "from rdflib import Graph\n",
    "from template_builder.utils import * \n",
    "from template_builder.namespaces import * \n",
    "from template_builder.get_completion import get_completion"
   ]
  },
  {
   "cell_type": "code",
   "execution_count": 2,
   "metadata": {},
   "outputs": [
    {
     "data": {
      "text/plain": [
       "<Graph identifier=Nef4d054c0bdb4bc8bad220d7733bb8b0 (<class 'rdflib.graph.Graph'>)>"
      ]
     },
     "execution_count": 2,
     "metadata": {},
     "output_type": "execute_result"
    }
   ],
   "source": [
    "g = Graph()\n",
    "g.parse(\"https://brickschema.org/schema/1.4.3/Brick.ttl\", format = \"ttl\")"
   ]
  },
  {
   "cell_type": "code",
   "execution_count": 3,
   "metadata": {},
   "outputs": [],
   "source": [
    "query = \"\"\" SELECT DISTINCT ?brick_class ?brick_definition ?brick_parent WHERE {\n",
    "    ?brick_class rdfs:subClassOf brick:Sensor ;\n",
    "        skos:definition ?brick_definition .\n",
    "    FILTER NOT EXISTS {\n",
    "        ?brick_class2 rdfs:subClassOf brick:Sensor .\n",
    "        ?brick_class rdfs:subClassOf ?brick_class2 .\n",
    "    }\n",
    "    FILTER NOT EXISTS {\n",
    "        ?brick_class owl:deprecated true .\n",
    "    }\n",
    "    FILTER (!strstarts(str(?brick_class), \"https://w3id.org/rec#\")) \n",
    "    BIND (brick:Sensor AS ?brick_parent).\n",
    "}\"\"\"\n",
    "\n",
    "def copy_brick_data_to_csv(input_df, existing_csv_path, output_csv_path=None):\n",
    "    \"\"\"\n",
    "    Extracts brick_class and brick_parent from input DataFrame and adds them\n",
    "    to an existing CSV file as new rows, preserving all existing data.\n",
    "    \n",
    "    Parameters:\n",
    "    -----------\n",
    "    input_df : pandas.DataFrame\n",
    "        DataFrame containing at least brick_class and brick_parent columns\n",
    "    existing_csv_path : str\n",
    "        Path to the existing CSV file\n",
    "    output_csv_path : str, optional\n",
    "        Path to save the resulting CSV. If None, overwrites the existing CSV.\n",
    "    \n",
    "    Returns:\n",
    "    --------\n",
    "    pandas.DataFrame\n",
    "        The resulting DataFrame that was saved to CSV\n",
    "    \"\"\"\n",
    "    # Ensure the input DataFrame has the required columns\n",
    "    if 'brick_class' not in input_df.columns or 'brick_parent' not in input_df.columns:\n",
    "        raise ValueError(\"Input DataFrame must contain 'brick_class' and 'brick_parent' columns\")\n",
    "    \n",
    "    # Extract only the needed columns\n",
    "    brick_data = input_df[['brick_class', 'brick_parent', 'brick_definition']].copy()\n",
    "    \n",
    "    # Read the existing CSV\n",
    "    try:\n",
    "        existing_df = pd.read_csv(existing_csv_path)\n",
    "    except FileNotFoundError:\n",
    "        print(f\"Warning: Existing CSV file {existing_csv_path} not found. Creating a new one.\")\n",
    "        # Create a new DataFrame with expected columns\n",
    "        existing_df = pd.DataFrame(columns=['brick_class', 'brick_parent', 'brick_definition', '223_class', \n",
    "                                           'quantitykind', 'medium', 'aspects'])\n",
    "    \n",
    "    # Get all columns from existing CSV\n",
    "    all_columns = existing_df.columns.tolist()\n",
    "    \n",
    "    # Filter out brick_class values that already exist in the CSV\n",
    "    existing_brick_classes = set(existing_df['brick_class']) if 'brick_class' in existing_df.columns else set()\n",
    "    new_brick_data = brick_data[~brick_data['brick_class'].isin(existing_brick_classes)]\n",
    "    \n",
    "    if len(new_brick_data) == 0:\n",
    "        print(\"No new brick_class entries to add. All provided brick_class values already exist in the CSV.\")\n",
    "        return existing_df\n",
    "    \n",
    "    # Ensure brick_data has all the columns from the existing CSV\n",
    "    for col in all_columns:\n",
    "        if col not in brick_data.columns:\n",
    "            brick_data[col] = None  # Add missing columns with None values\n",
    "    \n",
    "    # Reorder columns to match the existing CSV\n",
    "    brick_data = brick_data[all_columns]\n",
    "    \n",
    "    # Append the new data to the existing data\n",
    "    result_df = pd.concat([existing_df, brick_data], ignore_index=True)\n",
    "    \n",
    "    # Save to CSV\n",
    "    output_path = output_csv_path if output_csv_path else existing_csv_path\n",
    "    result_df.to_csv(output_path, index=False)\n",
    "    \n",
    "    print(f\"Data successfully appended to {output_path}\")\n",
    "    return result_df\n",
    "\n",
    "# Example usage:\n",
    "# Assuming you have a DataFrame called 'df' with brick_class and brick_parent columns\n",
    "# and an existing CSV file at 'path/to/existing.csv'\n",
    "\n",
    "# df = pd.DataFrame({\n",
    "#     'brick_class': ['Class1', 'Class2', 'Class3'],\n",
    "#     'brick_parent': ['Parent1', 'Parent2', 'Parent3'],\n",
    "#     'other_column': [1, 2, 3]\n",
    "# })\n",
    "# \n",
    "# result = copy_brick_data_to_csv(df, 'path/to/existing.csv', 'path/to/output.csv')"
   ]
  },
  {
   "cell_type": "code",
   "execution_count": 4,
   "metadata": {},
   "outputs": [
    {
     "name": "stdout",
     "output_type": "stream",
     "text": [
      "Warning: Existing CSV file mapping.csv not found. Creating a new one.\n",
      "Data successfully appended to mapping.csv\n"
     ]
    }
   ],
   "source": [
    "brick_schema_df = copy_brick_data_to_csv(query_to_df(query, g), \"mapping.csv\")"
   ]
  },
  {
   "cell_type": "code",
   "execution_count": 4,
   "metadata": {},
   "outputs": [],
   "source": [
    "s223 = Graph()\n",
    "s223.parse(\"https://open223.info/223p.ttl\", format = \"ttl\")\n",
    "bind_prefixes(s223)"
   ]
  },
  {
   "cell_type": "code",
   "execution_count": 6,
   "metadata": {},
   "outputs": [
    {
     "data": {
      "application/vnd.microsoft.datawrangler.viewer.v0+json": {
       "columns": [
        {
         "name": "index",
         "rawType": "int64",
         "type": "integer"
        },
        {
         "name": "s223_class",
         "rawType": "object",
         "type": "string"
        },
        {
         "name": "s223_definition",
         "rawType": "object",
         "type": "string"
        }
       ],
       "conversionMethod": "pd.DataFrame",
       "ref": "e0b66ea2-6f16-4c40-a030-68c9d91807b0",
       "rows": [
        [
         "0",
         "Property",
         "An attribute, quality, or characteristic of a feature of interest.\n\nThe `Property` class is the parent of all variations of a `Property`, which are:\n`ActuatableProperty` - subclass of `Property` that can be modified by user or machine outside of the model (typically command);\n`ObservableProperty` - subclass of `Property` that are observed (typically measures);\n`EnumerableProperty` - subclass of `Property` defined by `EnumerationKind`;\n`QuantifiableProperty` - subclass of `Property` defined by numerical values.\n\nAnd their subclass combinations :\n`QuantifiableActuatableProperty`,\n`QuantifiableObservableProperty`,\n`EnumeratedObservableProperty`,\n`EnumeratedActuatableProperty`.\n\nA `QuantifiableProperty` (or subClass thereof) must always be associated with a `Unit` and a `QuantityKind`, either explicitly from the `Property`, \nor through the associated Value. If the `Unit` is defined, the SHACL reasoner (if invoked) will figure out and assert the most general `QuantityKind`.\n\nEnumerable properties must be associated with an `EnumerationKind`. Different flavors of properties are shown in Figure 12-1.\n\n![Different flavors of Properties](figures/Figure_12-1_Flavors_of_Properties.svg)\n\nA `Property` instance that is not an instance of one of the subclasses is unconstrained\nwith respect to its value.\n"
        ],
        [
         "1",
         "EnumerableProperty",
         "An `EnumerableProperty` is a `Property` with an enumerated (fixed) set of possible values."
        ],
        [
         "2",
         "EnumeratedActuatableProperty",
         "An `EnumeratedActuatableProperty` is a `Property` with an enumerated (fixed) set of possible values that can be changed (actuated)."
        ],
        [
         "3",
         "EnumeratedObservableProperty",
         "An `EnumeratedObservableProperty` is a `Property` with an enumerated (fixed) set of possible values that cannot be changed (can only be observed)."
        ],
        [
         "4",
         "ObservableProperty",
         "The term \"observable\" implies that reading the `ObservableProperty` value will return the result of a physical observation, usually by a `Sensor`.  \n  In contrast, the term \"actuatable\" (see {s223:ActuatableProperty}) implies that writing to the `ActuatableProperty` value will directly trigger a physical actuation."
        ],
        [
         "5",
         "QuantifiableObservableProperty",
         "This class is for instances of `QuantifiableProperty` for which numerical values are observed, like a temperature reading or a voltage measure."
        ],
        [
         "6",
         "ActuatableProperty",
         "The term \"actuatable\" implies that writing to the `ActuatableProperty` value will directly trigger a physical actuation by either an `Actuator` or `Equipment`. \n  In contrast, the term \"observable\" (see {s223:ObservableProperty}) implies that reading the `ObservableProperty` value will return the result of a physical observation."
        ],
        [
         "7",
         "QuantifiableActuatableProperty",
         "This class is for instances of `QuantifiableProperty` for which numerical values are specified to be modifiable by a user or a machine outside of the model, like a setpoint."
        ],
        [
         "8",
         "QuantifiableProperty",
         "This class is for quantifiable values that describe an object (`System`, `Equipment`, etc.) that are typically static (`hasValue`). That is, they are neither measured nor specified in the course of operations."
        ]
       ],
       "shape": {
        "columns": 2,
        "rows": 9
       }
      },
      "text/html": [
       "<div>\n",
       "<style scoped>\n",
       "    .dataframe tbody tr th:only-of-type {\n",
       "        vertical-align: middle;\n",
       "    }\n",
       "\n",
       "    .dataframe tbody tr th {\n",
       "        vertical-align: top;\n",
       "    }\n",
       "\n",
       "    .dataframe thead th {\n",
       "        text-align: right;\n",
       "    }\n",
       "</style>\n",
       "<table border=\"1\" class=\"dataframe\">\n",
       "  <thead>\n",
       "    <tr style=\"text-align: right;\">\n",
       "      <th></th>\n",
       "      <th>s223_class</th>\n",
       "      <th>s223_definition</th>\n",
       "    </tr>\n",
       "  </thead>\n",
       "  <tbody>\n",
       "    <tr>\n",
       "      <th>0</th>\n",
       "      <td>Property</td>\n",
       "      <td>An attribute, quality, or characteristic of a ...</td>\n",
       "    </tr>\n",
       "    <tr>\n",
       "      <th>1</th>\n",
       "      <td>EnumerableProperty</td>\n",
       "      <td>An `EnumerableProperty` is a `Property` with a...</td>\n",
       "    </tr>\n",
       "    <tr>\n",
       "      <th>2</th>\n",
       "      <td>EnumeratedActuatableProperty</td>\n",
       "      <td>An `EnumeratedActuatableProperty` is a `Proper...</td>\n",
       "    </tr>\n",
       "    <tr>\n",
       "      <th>3</th>\n",
       "      <td>EnumeratedObservableProperty</td>\n",
       "      <td>An `EnumeratedObservableProperty` is a `Proper...</td>\n",
       "    </tr>\n",
       "    <tr>\n",
       "      <th>4</th>\n",
       "      <td>ObservableProperty</td>\n",
       "      <td>The term \"observable\" implies that reading the...</td>\n",
       "    </tr>\n",
       "    <tr>\n",
       "      <th>5</th>\n",
       "      <td>QuantifiableObservableProperty</td>\n",
       "      <td>This class is for instances of `QuantifiablePr...</td>\n",
       "    </tr>\n",
       "    <tr>\n",
       "      <th>6</th>\n",
       "      <td>ActuatableProperty</td>\n",
       "      <td>The term \"actuatable\" implies that writing to ...</td>\n",
       "    </tr>\n",
       "    <tr>\n",
       "      <th>7</th>\n",
       "      <td>QuantifiableActuatableProperty</td>\n",
       "      <td>This class is for instances of `QuantifiablePr...</td>\n",
       "    </tr>\n",
       "    <tr>\n",
       "      <th>8</th>\n",
       "      <td>QuantifiableProperty</td>\n",
       "      <td>This class is for quantifiable values that des...</td>\n",
       "    </tr>\n",
       "  </tbody>\n",
       "</table>\n",
       "</div>"
      ],
      "text/plain": [
       "                       s223_class  \\\n",
       "0                        Property   \n",
       "1              EnumerableProperty   \n",
       "2    EnumeratedActuatableProperty   \n",
       "3    EnumeratedObservableProperty   \n",
       "4              ObservableProperty   \n",
       "5  QuantifiableObservableProperty   \n",
       "6              ActuatableProperty   \n",
       "7  QuantifiableActuatableProperty   \n",
       "8            QuantifiableProperty   \n",
       "\n",
       "                                     s223_definition  \n",
       "0  An attribute, quality, or characteristic of a ...  \n",
       "1  An `EnumerableProperty` is a `Property` with a...  \n",
       "2  An `EnumeratedActuatableProperty` is a `Proper...  \n",
       "3  An `EnumeratedObservableProperty` is a `Proper...  \n",
       "4  The term \"observable\" implies that reading the...  \n",
       "5  This class is for instances of `QuantifiablePr...  \n",
       "6  The term \"actuatable\" implies that writing to ...  \n",
       "7  This class is for instances of `QuantifiablePr...  \n",
       "8  This class is for quantifiable values that des...  "
      ]
     },
     "metadata": {},
     "output_type": "display_data"
    }
   ],
   "source": [
    "# Get properties\n",
    "prop_query = \"\"\" SELECT DISTINCT ?s223_class ?s223_definition WHERE {\n",
    "    ?s223_class rdfs:subClassOf* s223:Property ;\n",
    "    rdfs:comment ?s223_definition .\n",
    "    FILTER NOT EXISTS {\n",
    "        ?s223_class qudt:hasQuantityKind ?qk .\n",
    "    }\n",
    "}\n",
    "\"\"\"\n",
    "prop_df = query_to_df(prop_query, s223, remove_namespaces=True)\n",
    "display(prop_df)\n",
    "s223_properties = prop_df.to_csv(index=False)"
   ]
  },
  {
   "cell_type": "code",
   "execution_count": 31,
   "metadata": {},
   "outputs": [
    {
     "data": {
      "application/vnd.microsoft.datawrangler.viewer.v0+json": {
       "columns": [
        {
         "name": "index",
         "rawType": "int64",
         "type": "integer"
        },
        {
         "name": "s223_class",
         "rawType": "object",
         "type": "string"
        },
        {
         "name": "s223_definition",
         "rawType": "object",
         "type": "string"
        }
       ],
       "conversionMethod": "pd.DataFrame",
       "ref": "2e88b878-6506-45eb-86b5-59ee5f66e80b",
       "rows": [
        [
         "0",
         "s223:DomainSpace",
         "A `DomainSpace` represents some portion of a `PhysicalSpace` that is affected by a building service associated with a Domain. DomainSpaces may represent an entire `PhysicalSpace` or any portion of a `PhysicalSpace`. Multiple DomainSpaces of the same Domain may overlap, and DomainSpaces of different Domains may also overlap. DomainSpaces may be grouped into Zones using the relation `hasDomainSpace` (see {s223:hasDomainSpace})."
        ],
        [
         "1",
         "s223:Junction",
         "A `Junction` is a modeling construct used when a branching point within a `Connection` (see {s223:Connection}) is of significance, \nsuch as specifying the observation location of a `Sensor`, or when a modeler wants to expose a branch point within a containing piece of `Equipment`. \nWhen a `Junction` is used, what might have been modeled as a single, branched `Connection` \nis separated into three or more separate connections, all tied together with the `Junction` and its associated connection points. \n\n`Junction` is a subClassOf `Connectable`, which gives it the ability to have connection points, but unlike Equipment (and like Connection) \nit is not allowed to change the Medium that passes through it. This is why `Junction` is a sibling class to `Equipment` and not a subclass.\nThis constraint to maintain compatible mediums among a `Junction` and all of its associated `ConnectionPoint`s gives rise to multiple\nvalidation test cases, where the specified medium might be a pure medium, or a mixture with constituents. See {s223:Substance-Medium} for\nmore details.\n"
        ],
        [
         "2",
         "s223:Actuator",
         "A piece of equipment that receives control signals and electrically, pneumatically, or hydraulically makes changes in the \n  physical world, such as the position of a valve or damper."
        ],
        [
         "3",
         "s223:AirHandlingUnit",
         "An assembly consisting of a fan or fans and other necessary equipment to perform one or more of the following functions: \n  circulating, filtration, heating, cooling, heat recovery, humidifying, dehumidifying, and mixing of air."
        ],
        [
         "4",
         "s223:Boiler",
         "A closed, pressure vessel that uses fuel or electricity for heating water or other fluids to supply steam or hot water for heating, humidification, or other applications."
        ],
        [
         "5",
         "s223:Chiller",
         "A refrigerating machine used to transfer heat from fluids."
        ],
        [
         "6",
         "s223:ClothesWasher",
         "An appliance that automatically cleans a load of textiles (e.g., clothing, bedding)."
        ],
        [
         "7",
         "s223:CoffeeMaker",
         "An appliance that automatically brews coffee."
        ],
        [
         "8",
         "s223:Compressor",
         "A device for mechanically increasing the pressure of a gas."
        ],
        [
         "9",
         "s223:ComputerPrinter",
         "A machine that receives an input electrical signal, usually from a `Computer`, and outputs a durable representation of information, \n  usually text and/or graphics, usually on paper."
        ],
        [
         "10",
         "s223:Controller",
         "A device for regulation of a system or component in normal operation, which executes one or more `Function`."
        ],
        [
         "11",
         "s223:CoolingTower",
         "A heat transfer device in which atmospheric air cools warm water, generally by direct contact via evaporation."
        ],
        [
         "12",
         "s223:CopyMachine",
         "A machine that receives as an input one or more durable representation(s) of information, usually text and/or graphics and usually \n  on paper, and outputs one or more reproductions of the information for each input, usually on paper."
        ],
        [
         "13",
         "s223:Dishwasher",
         "An appliance that automatically cleans dishware, cookware, and cutlery."
        ],
        [
         "14",
         "s223:Door",
         "A hinged, sliding, or revolving barrier at the entrance to a building or room."
        ],
        [
         "15",
         "s223:ElectricBreaker",
         "A piece of equipment designed to open the circuit automatically at a predetermined overcurrent without damage to itself (when properly applied within its rating)."
        ],
        [
         "16",
         "s223:ElectricClothesDryer",
         "An appliance that automatically removes moisture from a load of textiles (e.g., clothing, bedding), usually after they are washed \n  in a `ClothesWasher`."
        ],
        [
         "17",
         "s223:ElectricCooktop",
         "An appliance with a flat surface containing one or moreheat sources designed for direct cooking with pots and pans."
        ],
        [
         "18",
         "s223:ElectricOutlet",
         "A device to which a piece of electrical equipment can be connected in order to provide it with electricity"
        ],
        [
         "19",
         "s223:ElectricWaterDispenser",
         "An appliance that dispenses water, and optionally heats and/or cools the water prior to dispensing."
        ],
        [
         "20",
         "s223:ElectricityMeter",
         "A `Meter` that contains at least one `VoltageSensor` and one `ElectricCurrentSensor`, and reports one or more \n  properties of electricity. Example reported properties include the following `QuantityKind`s`: `Voltage`, `ElectricCurrent`, `ActiveEnergy`,\n  `ActivePower`, `ReactivePower`, `ApparentPower`, `PowerFactor`, and `Frequency` with unit `Hertz`. An `ElectricityMeter` may optionally contain \n  a `Function` that represents the mathematical calculations of the reported properties of electricity."
        ],
        [
         "21",
         "s223:Elevator",
         "A machine that vertically transports people or freight between floors or levels of a building. ."
        ],
        [
         "22",
         "s223:EthernetSwitch",
         "A type of network hardware that connects cabled devices, such as computers and Wi-Fi access points, \n  in an Ethernet LAN so they can communicate with each other and to the internet."
        ],
        [
         "23",
         "s223:FanCoilUnit",
         "A device consisting of a heat exchanger (coil) and a fan to regulate the temperature of one or more spaces."
        ],
        [
         "24",
         "s223:Filter",
         "A device that removes contaminants from gases or liquids. See {s223:Substance-Medium} for\nmore details on validating compatible mediums upstream and downstream of a `Filter`."
        ],
        [
         "25",
         "s223:FlushToilet",
         "An plumbing fixture that collects human waste (i.e., urine and/or feces, and sometimes toilet paper) in a chamber containing water, \n  and contains a integral manual actuator that triggers the release of and additional volume of water that flushes everything from the chamber into \n  a plumbing system that usually carries the mixture to a sewer system or septic tank."
        ],
        [
         "26",
         "s223:Freezer",
         "An appliance that maintains an internal temperature below the freezing point of water."
        ],
        [
         "27",
         "s223:FumeHood",
         "A fume-collection device mounted over a work space, table, or shelf and serving to conduct unwanted gases away from an area."
        ],
        [
         "28",
         "s223:Furnace",
         "An enclosed chamber or structure in which heat is produced, as by burning fuel or by converting electrical energy. "
        ],
        [
         "29",
         "s223:Generator",
         "An energy transducer that transforms non-electric energy into electric energy."
        ],
        [
         "30",
         "s223:Humidifier",
         "A piece of equipment to add moisture to a gas such as air."
        ],
        [
         "31",
         "s223:Humidistat",
         "An automatic control device used to maintain humidity at a fixed or adjustable setpoint."
        ],
        [
         "32",
         "s223:IceMaker",
         "An appliance that makes ice."
        ],
        [
         "33",
         "s223:Luminaire",
         "A complete lighting unit consisting of a light source(s) and ballast(s) or driver(s) (when applicable), together with the parts designed to distribute the light, to position and protect the light source(s), and to connect the light source(s) to the power supply. Also known as a light fixture."
        ],
        [
         "34",
         "s223:Motor",
         "A machine in which power is applied to do work by the conversion of various forms of energy into mechanical force and motion."
        ],
        [
         "35",
         "s223:PhotovoltaicModule",
         "A piece of equipment that converts sunlight into electricity."
        ],
        [
         "36",
         "s223:PowerOverEthernetSwitch",
         "A type of network hardware that connects and is capable of powering cabled devices, such as computers and Wi-Fi access points, \n  in an Ethernet LAN so they can communicate with each other and to the internet."
        ],
        [
         "37",
         "s223:Pump",
         "A machine for imparting energy to a fluid, drawing a fluid into itself through an entrance port, and forcing the fluid out through \n  an exhaust port."
        ],
        [
         "38",
         "s223:Refridgerator",
         "An appliance that maintains an internal temperature above the freezing point of water."
        ],
        [
         "39",
         "s223:Sink",
         "An plumbing fixture for manually washing hands, dishes, or other items that receives as an input hot or cold water dispensed from one or \n  two `Faucet`s, and is designed to hold a specific volume of water and release the held water through a `Drain`."
        ],
        [
         "40",
         "s223:SolarThermalCollector",
         "A device that converts sunlight into thermal energy."
        ],
        [
         "41",
         "s223:ThermalEnergyStorageUnit",
         "A device that stores thermal energy."
        ],
        [
         "42",
         "s223:Thermostat",
         "An automatic control device used to maintain temperature at a fixed or adjustable setpoint."
        ],
        [
         "43",
         "s223:Turbine",
         "An energy transducer that converts mechanical energy into electric energy."
        ],
        [
         "44",
         "s223:VariableFrequencyDrive",
         "An electronic device that varies its output frequency to vary the rotating speed of a motor, given a fixed input frequency. Used with fans or pumps to vary the flow in the system as a function of a maintained pressure."
        ],
        [
         "45",
         "s223:WindowShade",
         "A window covering that can be moved to block out or allow in light. "
        ],
        [
         "46",
         "s223:AirHeatExchanger",
         "A component intended to transfer heat from one air stream to another while keeping the two media separate. The\n  `AirHeatExchanger` class does not represent the physical characteristics of a heat exchanger design. It represents only the heat\n  transfer functionality."
        ],
        [
         "47",
         "s223:Battery",
         "A container consisting of one or more cells, in which chemical energy is converted into electricity and used as a source of power."
        ],
        [
         "48",
         "s223:ChilledBeam",
         "A structure with a colder surface temperature where air passes through, and air movement is induced in the room to achieve cooling. Cooling medium is generally water."
        ],
        [
         "49",
         "s223:ElectricOven",
         "An appliance with an enclosed chamber designed for baking, roasting, and other cooking methods that rely on circulating heat."
        ]
       ],
       "shape": {
        "columns": 2,
        "rows": 94
       }
      },
      "text/html": [
       "<div>\n",
       "<style scoped>\n",
       "    .dataframe tbody tr th:only-of-type {\n",
       "        vertical-align: middle;\n",
       "    }\n",
       "\n",
       "    .dataframe tbody tr th {\n",
       "        vertical-align: top;\n",
       "    }\n",
       "\n",
       "    .dataframe thead th {\n",
       "        text-align: right;\n",
       "    }\n",
       "</style>\n",
       "<table border=\"1\" class=\"dataframe\">\n",
       "  <thead>\n",
       "    <tr style=\"text-align: right;\">\n",
       "      <th></th>\n",
       "      <th>s223_class</th>\n",
       "      <th>s223_definition</th>\n",
       "    </tr>\n",
       "  </thead>\n",
       "  <tbody>\n",
       "    <tr>\n",
       "      <th>0</th>\n",
       "      <td>s223:DomainSpace</td>\n",
       "      <td>A `DomainSpace` represents some portion of a `...</td>\n",
       "    </tr>\n",
       "    <tr>\n",
       "      <th>1</th>\n",
       "      <td>s223:Junction</td>\n",
       "      <td>A `Junction` is a modeling construct used when...</td>\n",
       "    </tr>\n",
       "    <tr>\n",
       "      <th>2</th>\n",
       "      <td>s223:Actuator</td>\n",
       "      <td>A piece of equipment that receives control sig...</td>\n",
       "    </tr>\n",
       "    <tr>\n",
       "      <th>3</th>\n",
       "      <td>s223:AirHandlingUnit</td>\n",
       "      <td>An assembly consisting of a fan or fans and ot...</td>\n",
       "    </tr>\n",
       "    <tr>\n",
       "      <th>4</th>\n",
       "      <td>s223:Boiler</td>\n",
       "      <td>A closed, pressure vessel that uses fuel or el...</td>\n",
       "    </tr>\n",
       "    <tr>\n",
       "      <th>...</th>\n",
       "      <td>...</td>\n",
       "      <td>...</td>\n",
       "    </tr>\n",
       "    <tr>\n",
       "      <th>89</th>\n",
       "      <td>s223:BidirectionalConnectionPoint</td>\n",
       "      <td>A `BidirectionalConnectionPoint` is a `Connect...</td>\n",
       "    </tr>\n",
       "    <tr>\n",
       "      <th>90</th>\n",
       "      <td>s223:OutletConnectionPoint</td>\n",
       "      <td>An `OutletConnectionPoint` is a `ConnectionPoi...</td>\n",
       "    </tr>\n",
       "    <tr>\n",
       "      <th>91</th>\n",
       "      <td>s223:InletConnectionPoint</td>\n",
       "      <td>An `InletConnectionPoint` is a `ConnectionPoin...</td>\n",
       "    </tr>\n",
       "    <tr>\n",
       "      <th>92</th>\n",
       "      <td>s223:PhysicalSpace</td>\n",
       "      <td>A `PhysicalSpace` is an architectural concept ...</td>\n",
       "    </tr>\n",
       "    <tr>\n",
       "      <th>93</th>\n",
       "      <td>s223:OutdoorPhysicalSpace</td>\n",
       "      <td>An `OutdoorPhysicalSpace` is a subclass of `Ph...</td>\n",
       "    </tr>\n",
       "  </tbody>\n",
       "</table>\n",
       "<p>94 rows × 2 columns</p>\n",
       "</div>"
      ],
      "text/plain": [
       "                           s223_class  \\\n",
       "0                    s223:DomainSpace   \n",
       "1                       s223:Junction   \n",
       "2                       s223:Actuator   \n",
       "3                s223:AirHandlingUnit   \n",
       "4                         s223:Boiler   \n",
       "..                                ...   \n",
       "89  s223:BidirectionalConnectionPoint   \n",
       "90         s223:OutletConnectionPoint   \n",
       "91          s223:InletConnectionPoint   \n",
       "92                 s223:PhysicalSpace   \n",
       "93          s223:OutdoorPhysicalSpace   \n",
       "\n",
       "                                      s223_definition  \n",
       "0   A `DomainSpace` represents some portion of a `...  \n",
       "1   A `Junction` is a modeling construct used when...  \n",
       "2   A piece of equipment that receives control sig...  \n",
       "3   An assembly consisting of a fan or fans and ot...  \n",
       "4   A closed, pressure vessel that uses fuel or el...  \n",
       "..                                                ...  \n",
       "89  A `BidirectionalConnectionPoint` is a `Connect...  \n",
       "90  An `OutletConnectionPoint` is a `ConnectionPoi...  \n",
       "91  An `InletConnectionPoint` is a `ConnectionPoin...  \n",
       "92  A `PhysicalSpace` is an architectural concept ...  \n",
       "93  An `OutdoorPhysicalSpace` is a subclass of `Ph...  \n",
       "\n",
       "[94 rows x 2 columns]"
      ]
     },
     "metadata": {},
     "output_type": "display_data"
    }
   ],
   "source": [
    "# Get possible measurement locations \n",
    "loc_query = \"\"\" SELECT DISTINCT ?s223_class ?s223_definition WHERE {\n",
    "    {\n",
    "    ?s223_class rdfs:subClassOf+ s223:Connectable .\n",
    "    }\n",
    "    UNION\n",
    "    {\n",
    "    ?s223_class rdfs:subClassOf* s223:Connection .\n",
    "    }\n",
    "    UNION\n",
    "    {\n",
    "    ?s223_class rdfs:subClassOf+ s223:ConnectionPoint .\n",
    "    }\n",
    "    UNION\n",
    "    {\n",
    "    ?s223_class rdfs:subClassOf* s223:PhysicalSpace .\n",
    "    }\n",
    "    ?s223_class rdfs:comment ?s223_definition .\n",
    "\n",
    "    # have to remove sensors, as they will be selected for all points\n",
    "    FILTER NOT EXISTS {\n",
    "        ?s223_class rdfs:subClassOf* s223:Sensor .\n",
    "    }\n",
    "    FILTER ( ?s223_class != s223:Equipment )\n",
    "    # Getting rid of extensions\n",
    "    FILTER(STRSTARTS (str(?s223_class), \"http://data.ashrae.org/standard223#\"))\n",
    "}\n",
    "\"\"\"\n",
    "loc_df = query_to_df(loc_query, s223)\n",
    "display(loc_df)\n",
    "s223_loc = loc_df.to_csv(index=False)"
   ]
  },
  {
   "cell_type": "code",
   "execution_count": 21,
   "metadata": {},
   "outputs": [
    {
     "name": "stdout",
     "output_type": "stream",
     "text": [
      "brick: https://brickschema.org/schema/Brick#\n",
      "csvw: http://www.w3.org/ns/csvw#\n",
      "dc: http://purl.org/dc/elements/1.1/\n",
      "dcat: http://www.w3.org/ns/dcat#\n",
      "dcmitype: http://purl.org/dc/dcmitype/\n",
      "dcterms: http://purl.org/dc/terms/\n",
      "dcam: http://purl.org/dc/dcam/\n",
      "doap: http://usefulinc.com/ns/doap#\n",
      "foaf: http://xmlns.com/foaf/0.1/\n",
      "geo: http://www.opengis.net/ont/geosparql#\n",
      "odrl: http://www.w3.org/ns/odrl/2/\n",
      "org: http://www.w3.org/ns/org#\n",
      "prof: http://www.w3.org/ns/dx/prof/\n",
      "prov: http://www.w3.org/ns/prov#\n",
      "qb: http://purl.org/linked-data/cube#\n",
      "schema: https://schema.org/\n",
      "sh: http://www.w3.org/ns/shacl#\n",
      "skos: http://www.w3.org/2004/02/skos/core#\n",
      "sosa: http://www.w3.org/ns/sosa/\n",
      "ssn: http://www.w3.org/ns/ssn/\n",
      "time: http://www.w3.org/2006/time#\n",
      "vann: http://purl.org/vocab/vann/\n",
      "void: http://rdfs.org/ns/void#\n",
      "wgs: https://www.w3.org/2003/01/geo/wgs84_pos#\n",
      "owl: http://www.w3.org/2002/07/owl#\n",
      "rdf: http://www.w3.org/1999/02/22-rdf-syntax-ns#\n",
      "rdfs: http://www.w3.org/2000/01/rdf-schema#\n",
      "xsd: http://www.w3.org/2001/XMLSchema#\n",
      "xml: http://www.w3.org/XML/1998/namespace\n",
      "s223: http://data.ashrae.org/standard223#\n",
      "quantitykind: http://qudt.org/vocab/quantitykind/\n",
      "qudt: http://qudt.org/schema/qudt/\n",
      "unit: http://qudt.org/vocab/unit/\n",
      "tag: https://brickschema.org/schema/BrickTag#\n",
      "bsh: https://brickschema.org/schema/BrickShape#\n",
      "P: urn:___param___#\n",
      "constraint: https://nrel.gov/BuildingMOTIF/constraints#\n",
      "bmotif: https://nrel.gov/BuildingMOTIF#\n",
      "hpflex: urn:hpflex#\n",
      "hpfs: urn:hpflex/shapes#\n",
      "ns1: http://data.ashrae.org/standard223/1.0/extensions/g36#\n"
     ]
    }
   ],
   "source": [
    "for prefix, namespace in s223.namespaces():\n",
    "    print(f\"{prefix}: {namespace}\")"
   ]
  },
  {
   "cell_type": "code",
   "execution_count": 7,
   "metadata": {},
   "outputs": [
    {
     "data": {
      "application/vnd.microsoft.datawrangler.viewer.v0+json": {
       "columns": [
        {
         "name": "index",
         "rawType": "int64",
         "type": "integer"
        },
        {
         "name": "s223_class",
         "rawType": "object",
         "type": "string"
        },
        {
         "name": "s223_definition",
         "rawType": "object",
         "type": "string"
        }
       ],
       "conversionMethod": "pd.DataFrame",
       "ref": "3fc386c8-617d-4f73-9da4-149a05a77db4",
       "rows": [
        [
         "0",
         "s223:EnumerationKind-Substance",
         "This class has enumerated subclasses of the substances that are consumed, produced, transported, sensed, controlled or otherwise interacted with (e.g. water, air, etc.)."
        ],
        [
         "1",
         "s223:Substance-Soot",
         "`Substance-Soot`"
        ],
        [
         "2",
         "s223:Substance-Particulate",
         "This class has enumerated subclasses of particulates in various size ranges."
        ],
        [
         "3",
         "s223:Particulate-PM1.0",
         "Particulate-PM1.0"
        ],
        [
         "4",
         "s223:Particulate-PM10.0",
         "Particulate-PM10.0"
        ],
        [
         "5",
         "s223:Particulate-PM2.5",
         "Particulate-PM2.5"
        ],
        [
         "6",
         "s223:Substance-Medium",
         "This class has enumerated subclasses of a physical substance or anything that allows for the transfer of energy or information."
        ],
        [
         "7",
         "s223:Medium-Mix",
         "`Medium-Mix`"
        ],
        [
         "8",
         "s223:Mix-PowerAndSignal",
         "Mix-Power and signal"
        ],
        [
         "9",
         "s223:PowerAndSignal-PoE",
         "This class has enumerated subclasses of Power over Ethernet."
        ],
        [
         "10",
         "s223:Mix-Fluid",
         "`Mix-Fluid`"
        ],
        [
         "11",
         "s223:Fluid-NaturalGas",
         "This class has enumerated subclasses of natural gas in various states."
        ],
        [
         "12",
         "s223:Fluid-Oil",
         "This class has enumerated subclasses of oil."
        ],
        [
         "13",
         "s223:Fluid-Refrigerant",
         "This class has enumerated subclasses of commonly used refrigerants."
        ],
        [
         "14",
         "s223:Refrigerant-R-22",
         "`Refrigerant-R-22`"
        ],
        [
         "15",
         "s223:Refrigerant-R-410A",
         "`Refrigerant-R-410A`"
        ],
        [
         "16",
         "s223:Fluid-Water",
         "This class has enumerated subclasses of water and aqueous solutions in various states."
        ],
        [
         "17",
         "s223:Water-ChilledWater",
         "Water-Chilled water"
        ],
        [
         "18",
         "s223:Water-HotWater",
         "Water-Hot water"
        ],
        [
         "19",
         "s223:Water-Steam",
         "Steam"
        ],
        [
         "20",
         "s223:Water-GlycolSolution",
         "This class has enumerated subclasses of water-glycol solutions in various concentrations."
        ],
        [
         "21",
         "s223:GlycolSolution-15Percent",
         "`GlycolSolution-15Percent`"
        ],
        [
         "22",
         "s223:GlycolSolution-30Percent",
         "`GlycolSolution-30Percent`"
        ],
        [
         "23",
         "s223:Fluid-Air",
         "This class has enumerated subclasses of Air in various states."
        ],
        [
         "24",
         "s223:Medium-ThermalContact",
         "`Medium-ThermalContact`"
        ],
        [
         "25",
         "s223:Medium-Constituent",
         "`Medium-Constituent`"
        ],
        [
         "26",
         "s223:Constituent-CO",
         "`Constituent-CO`"
        ],
        [
         "27",
         "s223:Constituent-CO2",
         "`Constituent-CO2`"
        ],
        [
         "28",
         "s223:Constituent-EM",
         "This class has enumerated subclasses of electromagnetic energy at any frequency range."
        ],
        [
         "29",
         "s223:EM-Microwave",
         "`EM-Microwave`"
        ],
        [
         "30",
         "s223:EM-RF",
         "`EM-RF`"
        ],
        [
         "31",
         "s223:EM-Light",
         "The `EM-Light` class has enumerated subclasses of what are considered visible or near-visible light."
        ],
        [
         "32",
         "s223:Light-Ultraviolet",
         "`Light-Ultraviolet`"
        ],
        [
         "33",
         "s223:Light-Visible",
         "`Light-Visible`"
        ],
        [
         "34",
         "s223:Light-Infrared",
         "`Light-Infrared`"
        ],
        [
         "35",
         "s223:Constituent-Glycol",
         "`Constituent-Glycol`"
        ],
        [
         "36",
         "s223:Constituent-H2O",
         "`Constituent-H2O`"
        ],
        [
         "37",
         "s223:Constituent-Electricity",
         "This class has enumerated subclasses of all forms of electricity, including AC and DC."
        ],
        [
         "38",
         "s223:Electricity-Earth",
         "`Electricity-Earth`"
        ],
        [
         "39",
         "s223:Electricity-Neutral",
         "`Electricity-Neutral`"
        ],
        [
         "40",
         "s223:Electricity-Signal",
         "This class has enumerated subclasses of common communication protocols."
        ],
        [
         "41",
         "s223:Signal-EIA485",
         "Signal EIA485"
        ],
        [
         "42",
         "s223:Signal-IEC14908",
         "Signal IEC14908"
        ],
        [
         "43",
         "s223:Signal-USB",
         "Signal USB"
        ],
        [
         "44",
         "s223:Signal-Modulated",
         "This class has enumerated subclasses of electric signals at various voltage ranges."
        ],
        [
         "45",
         "s223:Modulated-0-10V",
         "Modulated 0-10V"
        ],
        [
         "46",
         "s223:Modulated-4-20mA",
         "Modulated 4-20mA"
        ],
        [
         "47",
         "s223:Signal-Ethernet",
         "Signal Ethernet"
        ],
        [
         "48",
         "s223:Electricity-DC",
         "This class has enumerated instances of all DC forms of electricity."
        ],
        [
         "49",
         "s223:Electricity-AC",
         "This class has enumerated instances of all AC forms of electricity."
        ]
       ],
       "shape": {
        "columns": 2,
        "rows": 50
       }
      },
      "text/html": [
       "<div>\n",
       "<style scoped>\n",
       "    .dataframe tbody tr th:only-of-type {\n",
       "        vertical-align: middle;\n",
       "    }\n",
       "\n",
       "    .dataframe tbody tr th {\n",
       "        vertical-align: top;\n",
       "    }\n",
       "\n",
       "    .dataframe thead th {\n",
       "        text-align: right;\n",
       "    }\n",
       "</style>\n",
       "<table border=\"1\" class=\"dataframe\">\n",
       "  <thead>\n",
       "    <tr style=\"text-align: right;\">\n",
       "      <th></th>\n",
       "      <th>s223_class</th>\n",
       "      <th>s223_definition</th>\n",
       "    </tr>\n",
       "  </thead>\n",
       "  <tbody>\n",
       "    <tr>\n",
       "      <th>0</th>\n",
       "      <td>s223:EnumerationKind-Substance</td>\n",
       "      <td>This class has enumerated subclasses of the su...</td>\n",
       "    </tr>\n",
       "    <tr>\n",
       "      <th>1</th>\n",
       "      <td>s223:Substance-Soot</td>\n",
       "      <td>`Substance-Soot`</td>\n",
       "    </tr>\n",
       "    <tr>\n",
       "      <th>2</th>\n",
       "      <td>s223:Substance-Particulate</td>\n",
       "      <td>This class has enumerated subclasses of partic...</td>\n",
       "    </tr>\n",
       "    <tr>\n",
       "      <th>3</th>\n",
       "      <td>s223:Particulate-PM1.0</td>\n",
       "      <td>Particulate-PM1.0</td>\n",
       "    </tr>\n",
       "    <tr>\n",
       "      <th>4</th>\n",
       "      <td>s223:Particulate-PM10.0</td>\n",
       "      <td>Particulate-PM10.0</td>\n",
       "    </tr>\n",
       "    <tr>\n",
       "      <th>5</th>\n",
       "      <td>s223:Particulate-PM2.5</td>\n",
       "      <td>Particulate-PM2.5</td>\n",
       "    </tr>\n",
       "    <tr>\n",
       "      <th>6</th>\n",
       "      <td>s223:Substance-Medium</td>\n",
       "      <td>This class has enumerated subclasses of a phys...</td>\n",
       "    </tr>\n",
       "    <tr>\n",
       "      <th>7</th>\n",
       "      <td>s223:Medium-Mix</td>\n",
       "      <td>`Medium-Mix`</td>\n",
       "    </tr>\n",
       "    <tr>\n",
       "      <th>8</th>\n",
       "      <td>s223:Mix-PowerAndSignal</td>\n",
       "      <td>Mix-Power and signal</td>\n",
       "    </tr>\n",
       "    <tr>\n",
       "      <th>9</th>\n",
       "      <td>s223:PowerAndSignal-PoE</td>\n",
       "      <td>This class has enumerated subclasses of Power ...</td>\n",
       "    </tr>\n",
       "    <tr>\n",
       "      <th>10</th>\n",
       "      <td>s223:Mix-Fluid</td>\n",
       "      <td>`Mix-Fluid`</td>\n",
       "    </tr>\n",
       "    <tr>\n",
       "      <th>11</th>\n",
       "      <td>s223:Fluid-NaturalGas</td>\n",
       "      <td>This class has enumerated subclasses of natura...</td>\n",
       "    </tr>\n",
       "    <tr>\n",
       "      <th>12</th>\n",
       "      <td>s223:Fluid-Oil</td>\n",
       "      <td>This class has enumerated subclasses of oil.</td>\n",
       "    </tr>\n",
       "    <tr>\n",
       "      <th>13</th>\n",
       "      <td>s223:Fluid-Refrigerant</td>\n",
       "      <td>This class has enumerated subclasses of common...</td>\n",
       "    </tr>\n",
       "    <tr>\n",
       "      <th>14</th>\n",
       "      <td>s223:Refrigerant-R-22</td>\n",
       "      <td>`Refrigerant-R-22`</td>\n",
       "    </tr>\n",
       "    <tr>\n",
       "      <th>15</th>\n",
       "      <td>s223:Refrigerant-R-410A</td>\n",
       "      <td>`Refrigerant-R-410A`</td>\n",
       "    </tr>\n",
       "    <tr>\n",
       "      <th>16</th>\n",
       "      <td>s223:Fluid-Water</td>\n",
       "      <td>This class has enumerated subclasses of water ...</td>\n",
       "    </tr>\n",
       "    <tr>\n",
       "      <th>17</th>\n",
       "      <td>s223:Water-ChilledWater</td>\n",
       "      <td>Water-Chilled water</td>\n",
       "    </tr>\n",
       "    <tr>\n",
       "      <th>18</th>\n",
       "      <td>s223:Water-HotWater</td>\n",
       "      <td>Water-Hot water</td>\n",
       "    </tr>\n",
       "    <tr>\n",
       "      <th>19</th>\n",
       "      <td>s223:Water-Steam</td>\n",
       "      <td>Steam</td>\n",
       "    </tr>\n",
       "    <tr>\n",
       "      <th>20</th>\n",
       "      <td>s223:Water-GlycolSolution</td>\n",
       "      <td>This class has enumerated subclasses of water-...</td>\n",
       "    </tr>\n",
       "    <tr>\n",
       "      <th>21</th>\n",
       "      <td>s223:GlycolSolution-15Percent</td>\n",
       "      <td>`GlycolSolution-15Percent`</td>\n",
       "    </tr>\n",
       "    <tr>\n",
       "      <th>22</th>\n",
       "      <td>s223:GlycolSolution-30Percent</td>\n",
       "      <td>`GlycolSolution-30Percent`</td>\n",
       "    </tr>\n",
       "    <tr>\n",
       "      <th>23</th>\n",
       "      <td>s223:Fluid-Air</td>\n",
       "      <td>This class has enumerated subclasses of Air in...</td>\n",
       "    </tr>\n",
       "    <tr>\n",
       "      <th>24</th>\n",
       "      <td>s223:Medium-ThermalContact</td>\n",
       "      <td>`Medium-ThermalContact`</td>\n",
       "    </tr>\n",
       "    <tr>\n",
       "      <th>25</th>\n",
       "      <td>s223:Medium-Constituent</td>\n",
       "      <td>`Medium-Constituent`</td>\n",
       "    </tr>\n",
       "    <tr>\n",
       "      <th>26</th>\n",
       "      <td>s223:Constituent-CO</td>\n",
       "      <td>`Constituent-CO`</td>\n",
       "    </tr>\n",
       "    <tr>\n",
       "      <th>27</th>\n",
       "      <td>s223:Constituent-CO2</td>\n",
       "      <td>`Constituent-CO2`</td>\n",
       "    </tr>\n",
       "    <tr>\n",
       "      <th>28</th>\n",
       "      <td>s223:Constituent-EM</td>\n",
       "      <td>This class has enumerated subclasses of electr...</td>\n",
       "    </tr>\n",
       "    <tr>\n",
       "      <th>29</th>\n",
       "      <td>s223:EM-Microwave</td>\n",
       "      <td>`EM-Microwave`</td>\n",
       "    </tr>\n",
       "    <tr>\n",
       "      <th>30</th>\n",
       "      <td>s223:EM-RF</td>\n",
       "      <td>`EM-RF`</td>\n",
       "    </tr>\n",
       "    <tr>\n",
       "      <th>31</th>\n",
       "      <td>s223:EM-Light</td>\n",
       "      <td>The `EM-Light` class has enumerated subclasses...</td>\n",
       "    </tr>\n",
       "    <tr>\n",
       "      <th>32</th>\n",
       "      <td>s223:Light-Ultraviolet</td>\n",
       "      <td>`Light-Ultraviolet`</td>\n",
       "    </tr>\n",
       "    <tr>\n",
       "      <th>33</th>\n",
       "      <td>s223:Light-Visible</td>\n",
       "      <td>`Light-Visible`</td>\n",
       "    </tr>\n",
       "    <tr>\n",
       "      <th>34</th>\n",
       "      <td>s223:Light-Infrared</td>\n",
       "      <td>`Light-Infrared`</td>\n",
       "    </tr>\n",
       "    <tr>\n",
       "      <th>35</th>\n",
       "      <td>s223:Constituent-Glycol</td>\n",
       "      <td>`Constituent-Glycol`</td>\n",
       "    </tr>\n",
       "    <tr>\n",
       "      <th>36</th>\n",
       "      <td>s223:Constituent-H2O</td>\n",
       "      <td>`Constituent-H2O`</td>\n",
       "    </tr>\n",
       "    <tr>\n",
       "      <th>37</th>\n",
       "      <td>s223:Constituent-Electricity</td>\n",
       "      <td>This class has enumerated subclasses of all fo...</td>\n",
       "    </tr>\n",
       "    <tr>\n",
       "      <th>38</th>\n",
       "      <td>s223:Electricity-Earth</td>\n",
       "      <td>`Electricity-Earth`</td>\n",
       "    </tr>\n",
       "    <tr>\n",
       "      <th>39</th>\n",
       "      <td>s223:Electricity-Neutral</td>\n",
       "      <td>`Electricity-Neutral`</td>\n",
       "    </tr>\n",
       "    <tr>\n",
       "      <th>40</th>\n",
       "      <td>s223:Electricity-Signal</td>\n",
       "      <td>This class has enumerated subclasses of common...</td>\n",
       "    </tr>\n",
       "    <tr>\n",
       "      <th>41</th>\n",
       "      <td>s223:Signal-EIA485</td>\n",
       "      <td>Signal EIA485</td>\n",
       "    </tr>\n",
       "    <tr>\n",
       "      <th>42</th>\n",
       "      <td>s223:Signal-IEC14908</td>\n",
       "      <td>Signal IEC14908</td>\n",
       "    </tr>\n",
       "    <tr>\n",
       "      <th>43</th>\n",
       "      <td>s223:Signal-USB</td>\n",
       "      <td>Signal USB</td>\n",
       "    </tr>\n",
       "    <tr>\n",
       "      <th>44</th>\n",
       "      <td>s223:Signal-Modulated</td>\n",
       "      <td>This class has enumerated subclasses of electr...</td>\n",
       "    </tr>\n",
       "    <tr>\n",
       "      <th>45</th>\n",
       "      <td>s223:Modulated-0-10V</td>\n",
       "      <td>Modulated 0-10V</td>\n",
       "    </tr>\n",
       "    <tr>\n",
       "      <th>46</th>\n",
       "      <td>s223:Modulated-4-20mA</td>\n",
       "      <td>Modulated 4-20mA</td>\n",
       "    </tr>\n",
       "    <tr>\n",
       "      <th>47</th>\n",
       "      <td>s223:Signal-Ethernet</td>\n",
       "      <td>Signal Ethernet</td>\n",
       "    </tr>\n",
       "    <tr>\n",
       "      <th>48</th>\n",
       "      <td>s223:Electricity-DC</td>\n",
       "      <td>This class has enumerated instances of all DC ...</td>\n",
       "    </tr>\n",
       "    <tr>\n",
       "      <th>49</th>\n",
       "      <td>s223:Electricity-AC</td>\n",
       "      <td>This class has enumerated instances of all AC ...</td>\n",
       "    </tr>\n",
       "  </tbody>\n",
       "</table>\n",
       "</div>"
      ],
      "text/plain": [
       "                        s223_class  \\\n",
       "0   s223:EnumerationKind-Substance   \n",
       "1              s223:Substance-Soot   \n",
       "2       s223:Substance-Particulate   \n",
       "3           s223:Particulate-PM1.0   \n",
       "4          s223:Particulate-PM10.0   \n",
       "5           s223:Particulate-PM2.5   \n",
       "6            s223:Substance-Medium   \n",
       "7                  s223:Medium-Mix   \n",
       "8          s223:Mix-PowerAndSignal   \n",
       "9          s223:PowerAndSignal-PoE   \n",
       "10                  s223:Mix-Fluid   \n",
       "11           s223:Fluid-NaturalGas   \n",
       "12                  s223:Fluid-Oil   \n",
       "13          s223:Fluid-Refrigerant   \n",
       "14           s223:Refrigerant-R-22   \n",
       "15         s223:Refrigerant-R-410A   \n",
       "16                s223:Fluid-Water   \n",
       "17         s223:Water-ChilledWater   \n",
       "18             s223:Water-HotWater   \n",
       "19                s223:Water-Steam   \n",
       "20       s223:Water-GlycolSolution   \n",
       "21   s223:GlycolSolution-15Percent   \n",
       "22   s223:GlycolSolution-30Percent   \n",
       "23                  s223:Fluid-Air   \n",
       "24      s223:Medium-ThermalContact   \n",
       "25         s223:Medium-Constituent   \n",
       "26             s223:Constituent-CO   \n",
       "27            s223:Constituent-CO2   \n",
       "28             s223:Constituent-EM   \n",
       "29               s223:EM-Microwave   \n",
       "30                      s223:EM-RF   \n",
       "31                   s223:EM-Light   \n",
       "32          s223:Light-Ultraviolet   \n",
       "33              s223:Light-Visible   \n",
       "34             s223:Light-Infrared   \n",
       "35         s223:Constituent-Glycol   \n",
       "36            s223:Constituent-H2O   \n",
       "37    s223:Constituent-Electricity   \n",
       "38          s223:Electricity-Earth   \n",
       "39        s223:Electricity-Neutral   \n",
       "40         s223:Electricity-Signal   \n",
       "41              s223:Signal-EIA485   \n",
       "42            s223:Signal-IEC14908   \n",
       "43                 s223:Signal-USB   \n",
       "44           s223:Signal-Modulated   \n",
       "45            s223:Modulated-0-10V   \n",
       "46           s223:Modulated-4-20mA   \n",
       "47            s223:Signal-Ethernet   \n",
       "48             s223:Electricity-DC   \n",
       "49             s223:Electricity-AC   \n",
       "\n",
       "                                      s223_definition  \n",
       "0   This class has enumerated subclasses of the su...  \n",
       "1                                    `Substance-Soot`  \n",
       "2   This class has enumerated subclasses of partic...  \n",
       "3                                   Particulate-PM1.0  \n",
       "4                                  Particulate-PM10.0  \n",
       "5                                   Particulate-PM2.5  \n",
       "6   This class has enumerated subclasses of a phys...  \n",
       "7                                        `Medium-Mix`  \n",
       "8                                Mix-Power and signal  \n",
       "9   This class has enumerated subclasses of Power ...  \n",
       "10                                        `Mix-Fluid`  \n",
       "11  This class has enumerated subclasses of natura...  \n",
       "12       This class has enumerated subclasses of oil.  \n",
       "13  This class has enumerated subclasses of common...  \n",
       "14                                 `Refrigerant-R-22`  \n",
       "15                               `Refrigerant-R-410A`  \n",
       "16  This class has enumerated subclasses of water ...  \n",
       "17                                Water-Chilled water  \n",
       "18                                    Water-Hot water  \n",
       "19                                              Steam  \n",
       "20  This class has enumerated subclasses of water-...  \n",
       "21                         `GlycolSolution-15Percent`  \n",
       "22                         `GlycolSolution-30Percent`  \n",
       "23  This class has enumerated subclasses of Air in...  \n",
       "24                            `Medium-ThermalContact`  \n",
       "25                               `Medium-Constituent`  \n",
       "26                                   `Constituent-CO`  \n",
       "27                                  `Constituent-CO2`  \n",
       "28  This class has enumerated subclasses of electr...  \n",
       "29                                     `EM-Microwave`  \n",
       "30                                            `EM-RF`  \n",
       "31  The `EM-Light` class has enumerated subclasses...  \n",
       "32                                `Light-Ultraviolet`  \n",
       "33                                    `Light-Visible`  \n",
       "34                                   `Light-Infrared`  \n",
       "35                               `Constituent-Glycol`  \n",
       "36                                  `Constituent-H2O`  \n",
       "37  This class has enumerated subclasses of all fo...  \n",
       "38                                `Electricity-Earth`  \n",
       "39                              `Electricity-Neutral`  \n",
       "40  This class has enumerated subclasses of common...  \n",
       "41                                      Signal EIA485  \n",
       "42                                    Signal IEC14908  \n",
       "43                                         Signal USB  \n",
       "44  This class has enumerated subclasses of electr...  \n",
       "45                                    Modulated 0-10V  \n",
       "46                                   Modulated 4-20mA  \n",
       "47                                    Signal Ethernet  \n",
       "48  This class has enumerated instances of all DC ...  \n",
       "49  This class has enumerated instances of all AC ...  "
      ]
     },
     "metadata": {},
     "output_type": "display_data"
    }
   ],
   "source": [
    "# Get Media\n",
    "med_query = \"\"\" SELECT DISTINCT ?s223_class ?s223_definition WHERE {\n",
    "    ?s223_class rdfs:subClassOf* s223:EnumerationKind-Substance ;\n",
    "    rdfs:comment ?s223_definition .\n",
    "    FILTER NOT EXISTS {\n",
    "        {\n",
    "            ?s223_class rdfs:subClassOf+ s223:Electricity-DC .\n",
    "        }\n",
    "        UNION\n",
    "        {\n",
    "            ?s223_class rdfs:subClassOf+ s223:Electricity-AC .\n",
    "        }\n",
    "    }\n",
    "}\n",
    "\"\"\"\n",
    "media_df = query_to_df(med_query, s223)\n",
    "display(media_df)\n",
    "s223_media = media_df.to_csv(index=False)"
   ]
  },
  {
   "cell_type": "code",
   "execution_count": 188,
   "metadata": {},
   "outputs": [
    {
     "data": {
      "application/vnd.microsoft.datawrangler.viewer.v0+json": {
       "columns": [
        {
         "name": "index",
         "rawType": "int64",
         "type": "integer"
        },
        {
         "name": "s223_class",
         "rawType": "object",
         "type": "string"
        },
        {
         "name": "s223_definition",
         "rawType": "object",
         "type": "string"
        }
       ],
       "conversionMethod": "pd.DataFrame",
       "ref": "2bd04850-f8ba-4ff0-84dd-620be5192ba7",
       "rows": [
        [
         "0",
         "s223:EnumerationKind",
         "This is the encapsulating class for all EnumerationKinds. \n  EnumerationKinds define the (closed) set of permissible values for a given purpose. \n  For example, the DayOfWeek `EnumerationKind` enumerates the days of the week and allows no other values.\n\nEnumerationKinds are arranged in a class hierarchy tree, with the root class named `EnumerationKind`. Each subclass is named \nstarting with its immediate superclass, followed by a hyphen and a name that is unique among the sibling classes. \nEach class is also an instance of itself. This unusual modeling pattern was used to achieve:\n\n- The ability to set an EnumerationKind value that is more general, or not yet fully specified \nat the time of modeling, such as s223:Electricity-AC without having to state exactly what voltage or frequency it is.\n\n- The ability to use the sh:class SHACL predicate at any level in the EnumerationKind hierarchy \nto constrain a value in the s223 specification, even if it is a more general one such as s223:Electricity-AC in the above example.\n\nCertain validation constraints exist in the standard that evaluate compatibility of EnumerationKinds. \nTwo values are deemed compatible if they are the same, if one is a direct ancestor (or descendant) of the other, \nor if they are mixtures sharing at least one constituent."
        ],
        [
         "1",
         "s223:EnumerationKind-Occupancy",
         "This class has enumerated subclasses of occupancy status, i.e. the state of being used or occupied. Some Occupancy enumerations have subclasses for more specific use."
        ],
        [
         "2",
         "s223:Occupancy-Occupied",
         "Occupied"
        ],
        [
         "3",
         "s223:Occupancy-Unoccupied",
         "Unoccupied"
        ],
        [
         "4",
         "s223:Occupancy-Motion",
         "This class has enumerated subclasses indicating whether motion is detected or not."
        ],
        [
         "5",
         "s223:Motion-False",
         "`Motion-False`"
        ],
        [
         "6",
         "s223:Motion-True",
         "`Motion-True`"
        ],
        [
         "7",
         "s223:Occupancy-Presence",
         "This class has enumerated subclasses indicating whether physical presence is detected or not."
        ],
        [
         "8",
         "s223:Presence-False",
         "`Presence-False`"
        ],
        [
         "9",
         "s223:Presence-True",
         "`Presence-True`"
        ],
        [
         "10",
         "s223:EnumerationKind-ThermodynamicPhase",
         "This class has enumerated subclasses of thermodynamic phase, i.e. states of matter."
        ],
        [
         "11",
         "s223:ThermodynamicPhase-Solid",
         "`ThermodynamicPhase-Solid`"
        ],
        [
         "12",
         "s223:ThermodynamicPhase-Vapor",
         "`ThermodynamicPhase-Vapor`"
        ],
        [
         "13",
         "s223:ThermodynamicPhase-Gas",
         "This class has enumerated subclasses of gas in various thermodynamic states."
        ],
        [
         "14",
         "s223:Gas-SuperHeated",
         "Gas-Super heated"
        ],
        [
         "15",
         "s223:ThermodynamicPhase-Liquid",
         "This class has enumerated subclasses of liquid in various thermodynamic states."
        ],
        [
         "16",
         "s223:Liquid-SubCooled",
         "Liquid-Sub cooled"
        ],
        [
         "17",
         "s223:EnumerationKind-Binary",
         "This class has enumerated subclasses of binary values"
        ],
        [
         "18",
         "s223:Binary-Logical",
         "This class has enumerated subclasses of True and False used to describe the possible values of a logical property"
        ],
        [
         "19",
         "s223:Logical-False",
         "Logical False"
        ],
        [
         "20",
         "s223:Logical-True",
         "Logical True"
        ],
        [
         "21",
         "s223:Binary-OnOff",
         "This class has enumerated subclasses of states of either on or off."
        ],
        [
         "22",
         "s223:OnOff-Off",
         "Off"
        ],
        [
         "23",
         "s223:OnOff-On",
         "On"
        ],
        [
         "24",
         "s223:Binary-Position",
         "This class has enumerated subclasses of position such as closed or open."
        ],
        [
         "25",
         "s223:Position-Closed",
         "Closed"
        ],
        [
         "26",
         "s223:Position-Open",
         "Open"
        ],
        [
         "27",
         "s223:EnumerationKind-Domain",
         "A Domain represents a categorization of building services or specialization used to characterize equipment or spaces in a building. Example domains include HVAC, Lighting, and Plumbing."
        ],
        [
         "28",
         "s223:Domain-ConveyanceSystems",
         "The domain ConveyanceSystems represents equipment used to move people or things from one place in a building to another. Example equipment that might fall within a ConveyanceSystems domain include elevators, escalators, and conveyer belts."
        ],
        [
         "29",
         "s223:Domain-Electrical",
         "The domain Electrical represents equipment used to provide electrical power within a building. Example equipment that might fall within an Electrical domain include breaker panels, switchgear, photovoltaic panels, and generators. "
        ],
        [
         "30",
         "s223:Domain-FireProtection",
         "The domain FireProtection represents equipment used to provide fire detection and protection within a building. Example equipment that might be fall within a Fire domain include smoke detectors, alarm annunciators, and emergency public address systems. "
        ],
        [
         "31",
         "s223:Domain-Lighting",
         "The domain Lighting represents equipment used to provide illumination within or outside a building. Example equipment that might fall within a Lighting domain includes luminaires, daylight sensors, and movable sun shades."
        ],
        [
         "32",
         "s223:Domain-Networking",
         "The domain Networking represents equipment used to provide information technology communication for a building."
        ],
        [
         "33",
         "s223:Domain-Occupancy",
         "The domain Occupancy represents equipment used to determine if people are present in a space or count the number of people in a space."
        ],
        [
         "34",
         "s223:Domain-PhysicalSecurity",
         "The domain Security represents equipment that provides physical access control within or outside a building. Example equipment that might fall within a PhysicalSecurity domain include cameras, keycard sensors, and biometric scanners."
        ],
        [
         "35",
         "s223:Domain-Plumbing",
         "The domain Plumbing represents equipment used to provide domestic water within or outside a building. Example equipment that might fall within a Plumbing domain includes water meters, domestic hot water tanks, and sinks."
        ],
        [
         "36",
         "s223:Domain-Refrigeration",
         "The domain Refrigeration represents equipment used to provide cooling for a purpose other than space conditioning in a building."
        ],
        [
         "37",
         "s223:Domain-HVAC",
         "The domain HVAC represents equipment used to provide space conditioning and ventilation within a building. Example equipment that might fall within an HVAC domain include fans, pumps, air-handling units, and variable air volume boxes. "
        ],
        [
         "38",
         "s223:EnumerationKind-Role",
         "This class has enumerated subclasses of roles played by entities, such as cooling, generator, \n  relief, return. The use of these enumeration kinds are to indicate the **capability** of an entity to play a given \n  role, rather than as an indication of the role or mode being active at any given point in time. In other words, \n  some reversible piece of equipment might play a role of `Role-Cooling` at one time, and `Role-Heating` at another. \n  Such an entity would be described by two triples to indicate these two allowable roles. To determine what role \n  is active at a particular time is not determinable within the scope of 223, but rather through a Property with \n  an ExternalReference to telemetry or control data."
        ],
        [
         "39",
         "s223:Role-Condenser",
         "`Role-Condenser`"
        ],
        [
         "40",
         "s223:Role-Dehumidifying",
         "`Role-Dehumidifying`"
        ],
        [
         "41",
         "s223:Role-Discharge",
         "`Role-Discharge`"
        ],
        [
         "42",
         "s223:Role-Economizer",
         "`Role-Economizer`"
        ],
        [
         "43",
         "s223:Role-Evaporator",
         "`Role-Evaporator`"
        ],
        [
         "44",
         "s223:Role-Exhaust",
         "`Role-Exhaust`"
        ],
        [
         "45",
         "s223:Role-Expansion",
         "`Role-Expansion`"
        ],
        [
         "46",
         "s223:Role-Generator",
         "`Role-Generator`"
        ],
        [
         "47",
         "s223:Role-HeatRecovery",
         "Heat Recovery"
        ],
        [
         "48",
         "s223:Role-Load",
         "`Role-Load`"
        ],
        [
         "49",
         "s223:Role-OutdoorAirIntake",
         "`Role-OutdoorAirIntake`"
        ]
       ],
       "shape": {
        "columns": 2,
        "rows": 91
       }
      },
      "text/html": [
       "<div>\n",
       "<style scoped>\n",
       "    .dataframe tbody tr th:only-of-type {\n",
       "        vertical-align: middle;\n",
       "    }\n",
       "\n",
       "    .dataframe tbody tr th {\n",
       "        vertical-align: top;\n",
       "    }\n",
       "\n",
       "    .dataframe thead th {\n",
       "        text-align: right;\n",
       "    }\n",
       "</style>\n",
       "<table border=\"1\" class=\"dataframe\">\n",
       "  <thead>\n",
       "    <tr style=\"text-align: right;\">\n",
       "      <th></th>\n",
       "      <th>s223_class</th>\n",
       "      <th>s223_definition</th>\n",
       "    </tr>\n",
       "  </thead>\n",
       "  <tbody>\n",
       "    <tr>\n",
       "      <th>0</th>\n",
       "      <td>s223:EnumerationKind</td>\n",
       "      <td>This is the encapsulating class for all Enumer...</td>\n",
       "    </tr>\n",
       "    <tr>\n",
       "      <th>1</th>\n",
       "      <td>s223:EnumerationKind-Occupancy</td>\n",
       "      <td>This class has enumerated subclasses of occupa...</td>\n",
       "    </tr>\n",
       "    <tr>\n",
       "      <th>2</th>\n",
       "      <td>s223:Occupancy-Occupied</td>\n",
       "      <td>Occupied</td>\n",
       "    </tr>\n",
       "    <tr>\n",
       "      <th>3</th>\n",
       "      <td>s223:Occupancy-Unoccupied</td>\n",
       "      <td>Unoccupied</td>\n",
       "    </tr>\n",
       "    <tr>\n",
       "      <th>4</th>\n",
       "      <td>s223:Occupancy-Motion</td>\n",
       "      <td>This class has enumerated subclasses indicatin...</td>\n",
       "    </tr>\n",
       "    <tr>\n",
       "      <th>...</th>\n",
       "      <td>...</td>\n",
       "      <td>...</td>\n",
       "    </tr>\n",
       "    <tr>\n",
       "      <th>86</th>\n",
       "      <td>s223:Aspect-Threshold</td>\n",
       "      <td>The threshold value of something characterized...</td>\n",
       "    </tr>\n",
       "    <tr>\n",
       "      <th>87</th>\n",
       "      <td>s223:Aspect-WetBulb</td>\n",
       "      <td>The associated `Property` is a WetBulb tempera...</td>\n",
       "    </tr>\n",
       "    <tr>\n",
       "      <th>88</th>\n",
       "      <td>s223:Aspect-Effectiveness</td>\n",
       "      <td>This class enumerates the possible states of e...</td>\n",
       "    </tr>\n",
       "    <tr>\n",
       "      <th>89</th>\n",
       "      <td>s223:Effectiveness-Active</td>\n",
       "      <td>Active</td>\n",
       "    </tr>\n",
       "    <tr>\n",
       "      <th>90</th>\n",
       "      <td>s223:Aspect-Speed</td>\n",
       "      <td>This class has enumerated subclasses of speed ...</td>\n",
       "    </tr>\n",
       "  </tbody>\n",
       "</table>\n",
       "<p>91 rows × 2 columns</p>\n",
       "</div>"
      ],
      "text/plain": [
       "                        s223_class  \\\n",
       "0             s223:EnumerationKind   \n",
       "1   s223:EnumerationKind-Occupancy   \n",
       "2          s223:Occupancy-Occupied   \n",
       "3        s223:Occupancy-Unoccupied   \n",
       "4            s223:Occupancy-Motion   \n",
       "..                             ...   \n",
       "86           s223:Aspect-Threshold   \n",
       "87             s223:Aspect-WetBulb   \n",
       "88       s223:Aspect-Effectiveness   \n",
       "89       s223:Effectiveness-Active   \n",
       "90               s223:Aspect-Speed   \n",
       "\n",
       "                                      s223_definition  \n",
       "0   This is the encapsulating class for all Enumer...  \n",
       "1   This class has enumerated subclasses of occupa...  \n",
       "2                                            Occupied  \n",
       "3                                          Unoccupied  \n",
       "4   This class has enumerated subclasses indicatin...  \n",
       "..                                                ...  \n",
       "86  The threshold value of something characterized...  \n",
       "87  The associated `Property` is a WetBulb tempera...  \n",
       "88  This class enumerates the possible states of e...  \n",
       "89                                             Active  \n",
       "90  This class has enumerated subclasses of speed ...  \n",
       "\n",
       "[91 rows x 2 columns]"
      ]
     },
     "metadata": {},
     "output_type": "display_data"
    }
   ],
   "source": [
    "# Get Aspects\n",
    "asp_query = \"\"\" SELECT DISTINCT ?s223_class ?s223_definition WHERE {\n",
    "    ?s223_class rdfs:subClassOf* s223:EnumerationKind .\n",
    "    ?s223_class rdfs:comment ?s223_definition .\n",
    "  \n",
    "    FILTER NOT EXISTS {        \n",
    "        ?s223_class rdfs:subClassOf* s223:EnumerationKind-Substance .\n",
    "    }\n",
    "    # Excluding all the voltages\n",
    "    FILTER NOT EXISTS {        \n",
    "        ?s223_class rdfs:subClassOf* s223:EnumerationKind-Numerical .\n",
    "    }\n",
    "    FILTER NOT EXISTS {        \n",
    "        ?s223_class rdfs:subClassOf* s223:EnumerationKind-ElectricalPhaseIdentifier .\n",
    "    }\n",
    "    FILTER NOT EXISTS {        \n",
    "        ?s223_class rdfs:subClassOf* s223:EnumerationKind-ElectricalVoltagePhases .\n",
    "    }\n",
    "    FILTER NOT EXISTS {        \n",
    "        ?s223_class rdfs:subClassOf* s223:EnumerationKind-DayOfWeek .\n",
    "    }\n",
    "}\n",
    "\"\"\"\n",
    "asp_df = query_to_df(asp_query, s223)\n",
    "display(asp_df)\n",
    "s223_aspects = asp_df.to_csv(index=False)"
   ]
  },
  {
   "cell_type": "code",
   "execution_count": 213,
   "metadata": {},
   "outputs": [
    {
     "data": {
      "application/vnd.microsoft.datawrangler.viewer.v0+json": {
       "columns": [
        {
         "name": "index",
         "rawType": "int64",
         "type": "integer"
        },
        {
         "name": "s223_class",
         "rawType": "object",
         "type": "string"
        },
        {
         "name": "s223_definition",
         "rawType": "object",
         "type": "string"
        }
       ],
       "conversionMethod": "pd.DataFrame",
       "ref": "574006be-1df4-4ad8-ae9b-8aee9e553995",
       "rows": [
        [
         "0",
         "s223:EnumerationKind",
         "This is the encapsulating class for all EnumerationKinds. \n  EnumerationKinds define the (closed) set of permissible values for a given purpose. \n  For example, the DayOfWeek `EnumerationKind` enumerates the days of the week and allows no other values.\n\nEnumerationKinds are arranged in a class hierarchy tree, with the root class named `EnumerationKind`. Each subclass is named \nstarting with its immediate superclass, followed by a hyphen and a name that is unique among the sibling classes. \nEach class is also an instance of itself. This unusual modeling pattern was used to achieve:\n\n- The ability to set an EnumerationKind value that is more general, or not yet fully specified \nat the time of modeling, such as s223:Electricity-AC without having to state exactly what voltage or frequency it is.\n\n- The ability to use the sh:class SHACL predicate at any level in the EnumerationKind hierarchy \nto constrain a value in the s223 specification, even if it is a more general one such as s223:Electricity-AC in the above example.\n\nCertain validation constraints exist in the standard that evaluate compatibility of EnumerationKinds. \nTwo values are deemed compatible if they are the same, if one is a direct ancestor (or descendant) of the other, \nor if they are mixtures sharing at least one constituent."
        ],
        [
         "1",
         "s223:EnumerationKind-Occupancy",
         "This class has enumerated subclasses of occupancy status, i.e. the state of being used or occupied. Some Occupancy enumerations have subclasses for more specific use."
        ],
        [
         "2",
         "s223:Occupancy-Occupied",
         "Occupied"
        ],
        [
         "3",
         "s223:Occupancy-Unoccupied",
         "Unoccupied"
        ],
        [
         "4",
         "s223:Occupancy-Motion",
         "This class has enumerated subclasses indicating whether motion is detected or not."
        ],
        [
         "5",
         "s223:Motion-False",
         "`Motion-False`"
        ],
        [
         "6",
         "s223:Motion-True",
         "`Motion-True`"
        ],
        [
         "7",
         "s223:Occupancy-Presence",
         "This class has enumerated subclasses indicating whether physical presence is detected or not."
        ],
        [
         "8",
         "s223:Presence-False",
         "`Presence-False`"
        ],
        [
         "9",
         "s223:Presence-True",
         "`Presence-True`"
        ],
        [
         "10",
         "s223:EnumerationKind-ThermodynamicPhase",
         "This class has enumerated subclasses of thermodynamic phase, i.e. states of matter."
        ],
        [
         "11",
         "s223:ThermodynamicPhase-Solid",
         "`ThermodynamicPhase-Solid`"
        ],
        [
         "12",
         "s223:ThermodynamicPhase-Vapor",
         "`ThermodynamicPhase-Vapor`"
        ],
        [
         "13",
         "s223:ThermodynamicPhase-Gas",
         "This class has enumerated subclasses of gas in various thermodynamic states."
        ],
        [
         "14",
         "s223:Gas-SuperHeated",
         "Gas-Super heated"
        ],
        [
         "15",
         "s223:ThermodynamicPhase-Liquid",
         "This class has enumerated subclasses of liquid in various thermodynamic states."
        ],
        [
         "16",
         "s223:Liquid-SubCooled",
         "Liquid-Sub cooled"
        ],
        [
         "17",
         "s223:EnumerationKind-Binary",
         "This class has enumerated subclasses of binary values"
        ],
        [
         "18",
         "s223:Binary-Logical",
         "This class has enumerated subclasses of True and False used to describe the possible values of a logical property"
        ],
        [
         "19",
         "s223:Logical-False",
         "Logical False"
        ],
        [
         "20",
         "s223:Logical-True",
         "Logical True"
        ],
        [
         "21",
         "s223:Binary-OnOff",
         "This class has enumerated subclasses of states of either on or off."
        ],
        [
         "22",
         "s223:OnOff-Off",
         "Off"
        ],
        [
         "23",
         "s223:OnOff-On",
         "On"
        ],
        [
         "24",
         "s223:Binary-Position",
         "This class has enumerated subclasses of position such as closed or open."
        ],
        [
         "25",
         "s223:Position-Closed",
         "Closed"
        ],
        [
         "26",
         "s223:Position-Open",
         "Open"
        ]
       ],
       "shape": {
        "columns": 2,
        "rows": 27
       }
      },
      "text/html": [
       "<div>\n",
       "<style scoped>\n",
       "    .dataframe tbody tr th:only-of-type {\n",
       "        vertical-align: middle;\n",
       "    }\n",
       "\n",
       "    .dataframe tbody tr th {\n",
       "        vertical-align: top;\n",
       "    }\n",
       "\n",
       "    .dataframe thead th {\n",
       "        text-align: right;\n",
       "    }\n",
       "</style>\n",
       "<table border=\"1\" class=\"dataframe\">\n",
       "  <thead>\n",
       "    <tr style=\"text-align: right;\">\n",
       "      <th></th>\n",
       "      <th>s223_class</th>\n",
       "      <th>s223_definition</th>\n",
       "    </tr>\n",
       "  </thead>\n",
       "  <tbody>\n",
       "    <tr>\n",
       "      <th>0</th>\n",
       "      <td>s223:EnumerationKind</td>\n",
       "      <td>This is the encapsulating class for all Enumer...</td>\n",
       "    </tr>\n",
       "    <tr>\n",
       "      <th>1</th>\n",
       "      <td>s223:EnumerationKind-Occupancy</td>\n",
       "      <td>This class has enumerated subclasses of occupa...</td>\n",
       "    </tr>\n",
       "    <tr>\n",
       "      <th>2</th>\n",
       "      <td>s223:Occupancy-Occupied</td>\n",
       "      <td>Occupied</td>\n",
       "    </tr>\n",
       "    <tr>\n",
       "      <th>3</th>\n",
       "      <td>s223:Occupancy-Unoccupied</td>\n",
       "      <td>Unoccupied</td>\n",
       "    </tr>\n",
       "    <tr>\n",
       "      <th>4</th>\n",
       "      <td>s223:Occupancy-Motion</td>\n",
       "      <td>This class has enumerated subclasses indicatin...</td>\n",
       "    </tr>\n",
       "    <tr>\n",
       "      <th>5</th>\n",
       "      <td>s223:Motion-False</td>\n",
       "      <td>`Motion-False`</td>\n",
       "    </tr>\n",
       "    <tr>\n",
       "      <th>6</th>\n",
       "      <td>s223:Motion-True</td>\n",
       "      <td>`Motion-True`</td>\n",
       "    </tr>\n",
       "    <tr>\n",
       "      <th>7</th>\n",
       "      <td>s223:Occupancy-Presence</td>\n",
       "      <td>This class has enumerated subclasses indicatin...</td>\n",
       "    </tr>\n",
       "    <tr>\n",
       "      <th>8</th>\n",
       "      <td>s223:Presence-False</td>\n",
       "      <td>`Presence-False`</td>\n",
       "    </tr>\n",
       "    <tr>\n",
       "      <th>9</th>\n",
       "      <td>s223:Presence-True</td>\n",
       "      <td>`Presence-True`</td>\n",
       "    </tr>\n",
       "    <tr>\n",
       "      <th>10</th>\n",
       "      <td>s223:EnumerationKind-ThermodynamicPhase</td>\n",
       "      <td>This class has enumerated subclasses of thermo...</td>\n",
       "    </tr>\n",
       "    <tr>\n",
       "      <th>11</th>\n",
       "      <td>s223:ThermodynamicPhase-Solid</td>\n",
       "      <td>`ThermodynamicPhase-Solid`</td>\n",
       "    </tr>\n",
       "    <tr>\n",
       "      <th>12</th>\n",
       "      <td>s223:ThermodynamicPhase-Vapor</td>\n",
       "      <td>`ThermodynamicPhase-Vapor`</td>\n",
       "    </tr>\n",
       "    <tr>\n",
       "      <th>13</th>\n",
       "      <td>s223:ThermodynamicPhase-Gas</td>\n",
       "      <td>This class has enumerated subclasses of gas in...</td>\n",
       "    </tr>\n",
       "    <tr>\n",
       "      <th>14</th>\n",
       "      <td>s223:Gas-SuperHeated</td>\n",
       "      <td>Gas-Super heated</td>\n",
       "    </tr>\n",
       "    <tr>\n",
       "      <th>15</th>\n",
       "      <td>s223:ThermodynamicPhase-Liquid</td>\n",
       "      <td>This class has enumerated subclasses of liquid...</td>\n",
       "    </tr>\n",
       "    <tr>\n",
       "      <th>16</th>\n",
       "      <td>s223:Liquid-SubCooled</td>\n",
       "      <td>Liquid-Sub cooled</td>\n",
       "    </tr>\n",
       "    <tr>\n",
       "      <th>17</th>\n",
       "      <td>s223:EnumerationKind-Binary</td>\n",
       "      <td>This class has enumerated subclasses of binary...</td>\n",
       "    </tr>\n",
       "    <tr>\n",
       "      <th>18</th>\n",
       "      <td>s223:Binary-Logical</td>\n",
       "      <td>This class has enumerated subclasses of True a...</td>\n",
       "    </tr>\n",
       "    <tr>\n",
       "      <th>19</th>\n",
       "      <td>s223:Logical-False</td>\n",
       "      <td>Logical False</td>\n",
       "    </tr>\n",
       "    <tr>\n",
       "      <th>20</th>\n",
       "      <td>s223:Logical-True</td>\n",
       "      <td>Logical True</td>\n",
       "    </tr>\n",
       "    <tr>\n",
       "      <th>21</th>\n",
       "      <td>s223:Binary-OnOff</td>\n",
       "      <td>This class has enumerated subclasses of states...</td>\n",
       "    </tr>\n",
       "    <tr>\n",
       "      <th>22</th>\n",
       "      <td>s223:OnOff-Off</td>\n",
       "      <td>Off</td>\n",
       "    </tr>\n",
       "    <tr>\n",
       "      <th>23</th>\n",
       "      <td>s223:OnOff-On</td>\n",
       "      <td>On</td>\n",
       "    </tr>\n",
       "    <tr>\n",
       "      <th>24</th>\n",
       "      <td>s223:Binary-Position</td>\n",
       "      <td>This class has enumerated subclasses of positi...</td>\n",
       "    </tr>\n",
       "    <tr>\n",
       "      <th>25</th>\n",
       "      <td>s223:Position-Closed</td>\n",
       "      <td>Closed</td>\n",
       "    </tr>\n",
       "    <tr>\n",
       "      <th>26</th>\n",
       "      <td>s223:Position-Open</td>\n",
       "      <td>Open</td>\n",
       "    </tr>\n",
       "  </tbody>\n",
       "</table>\n",
       "</div>"
      ],
      "text/plain": [
       "                                 s223_class  \\\n",
       "0                      s223:EnumerationKind   \n",
       "1            s223:EnumerationKind-Occupancy   \n",
       "2                   s223:Occupancy-Occupied   \n",
       "3                 s223:Occupancy-Unoccupied   \n",
       "4                     s223:Occupancy-Motion   \n",
       "5                         s223:Motion-False   \n",
       "6                          s223:Motion-True   \n",
       "7                   s223:Occupancy-Presence   \n",
       "8                       s223:Presence-False   \n",
       "9                        s223:Presence-True   \n",
       "10  s223:EnumerationKind-ThermodynamicPhase   \n",
       "11            s223:ThermodynamicPhase-Solid   \n",
       "12            s223:ThermodynamicPhase-Vapor   \n",
       "13              s223:ThermodynamicPhase-Gas   \n",
       "14                     s223:Gas-SuperHeated   \n",
       "15           s223:ThermodynamicPhase-Liquid   \n",
       "16                    s223:Liquid-SubCooled   \n",
       "17              s223:EnumerationKind-Binary   \n",
       "18                      s223:Binary-Logical   \n",
       "19                       s223:Logical-False   \n",
       "20                        s223:Logical-True   \n",
       "21                        s223:Binary-OnOff   \n",
       "22                           s223:OnOff-Off   \n",
       "23                            s223:OnOff-On   \n",
       "24                     s223:Binary-Position   \n",
       "25                     s223:Position-Closed   \n",
       "26                       s223:Position-Open   \n",
       "\n",
       "                                      s223_definition  \n",
       "0   This is the encapsulating class for all Enumer...  \n",
       "1   This class has enumerated subclasses of occupa...  \n",
       "2                                            Occupied  \n",
       "3                                          Unoccupied  \n",
       "4   This class has enumerated subclasses indicatin...  \n",
       "5                                      `Motion-False`  \n",
       "6                                       `Motion-True`  \n",
       "7   This class has enumerated subclasses indicatin...  \n",
       "8                                    `Presence-False`  \n",
       "9                                     `Presence-True`  \n",
       "10  This class has enumerated subclasses of thermo...  \n",
       "11                         `ThermodynamicPhase-Solid`  \n",
       "12                         `ThermodynamicPhase-Vapor`  \n",
       "13  This class has enumerated subclasses of gas in...  \n",
       "14                                   Gas-Super heated  \n",
       "15  This class has enumerated subclasses of liquid...  \n",
       "16                                  Liquid-Sub cooled  \n",
       "17  This class has enumerated subclasses of binary...  \n",
       "18  This class has enumerated subclasses of True a...  \n",
       "19                                      Logical False  \n",
       "20                                       Logical True  \n",
       "21  This class has enumerated subclasses of states...  \n",
       "22                                                Off  \n",
       "23                                                 On  \n",
       "24  This class has enumerated subclasses of positi...  \n",
       "25                                             Closed  \n",
       "26                                               Open  "
      ]
     },
     "metadata": {},
     "output_type": "display_data"
    }
   ],
   "source": [
    "# Get EnumerationKind\n",
    "ek_query = \"\"\" SELECT DISTINCT ?s223_class ?s223_definition WHERE {\n",
    "    ?s223_class rdfs:subClassOf* s223:EnumerationKind .\n",
    "    ?s223_class rdfs:comment ?s223_definition .\n",
    "  \n",
    "    FILTER NOT EXISTS {        \n",
    "        ?s223_class rdfs:subClassOf* s223:EnumerationKind-Substance .\n",
    "    }\n",
    "    # Excluding all the voltages\n",
    "    FILTER NOT EXISTS {        \n",
    "        ?s223_class rdfs:subClassOf* s223:EnumerationKind-Numerical .\n",
    "    }\n",
    "    FILTER NOT EXISTS {        \n",
    "        ?s223_class rdfs:subClassOf* s223:EnumerationKind-ElectricalPhaseIdentifier .\n",
    "    }\n",
    "    FILTER NOT EXISTS {        \n",
    "        ?s223_class rdfs:subClassOf* s223:EnumerationKind-ElectricalVoltagePhases .\n",
    "    }\n",
    "    FILTER NOT EXISTS {        \n",
    "        ?s223_class rdfs:subClassOf* s223:EnumerationKind-DayOfWeek .\n",
    "    }\n",
    "    FILTER NOT EXISTS {        \n",
    "        ?s223_class rdfs:subClassOf* s223:EnumerationKind-Aspect .\n",
    "    }\n",
    "    FILTER NOT EXISTS {        \n",
    "        ?s223_class rdfs:subClassOf* s223:EnumerationKind-Role .\n",
    "    }\n",
    "    FILTER NOT EXISTS {        \n",
    "        ?s223_class rdfs:subClassOf* s223:EnumerationKind-Domain .\n",
    "    }\n",
    "}\n",
    "\"\"\"\n",
    "ek_df = query_to_df(ek_query, s223)\n",
    "display(ek_df)\n",
    "s223_eks = ek_df.to_csv(index=False)"
   ]
  },
  {
   "cell_type": "code",
   "execution_count": 199,
   "metadata": {},
   "outputs": [
    {
     "name": "stdout",
     "output_type": "stream",
     "text": [
      "brick_class: brick:Contact_Sensor\n",
      "definition: Senses or detects contact, such as for determining if a door is closed.\n",
      "s223_class: s223:EnumeratedObservableProperty\n"
     ]
    }
   ],
   "source": [
    "brick_class = brick_schema_df['brick_class'][0]\n",
    "definition = brick_schema_df['brick_definition'][0]\n",
    "system_prompt = \"\"\"\"\"\"\n",
    "prompt = f\"\"\"\n",
    "Determine what s223_class the brick_class should be, based on its name and definition.\n",
    "the possible s223 classes are <s223_properties>{s223_properties}</s223_properties> \n",
    "\n",
    "Only return the s223_class. Do not return any other information.\n",
    "\n",
    "brick_class: {brick_class}\n",
    "definition: {definition}\n",
    "\"\"\"\n",
    "s223_class = get_completion(prompt, system_prompt)\n",
    "print(f\"brick_class: {brick_class}\")\n",
    "print(f\"definition: {definition}\")\n",
    "print(f\"s223_class: {s223_class}\")\n"
   ]
  },
  {
   "cell_type": "code",
   "execution_count": 207,
   "metadata": {},
   "outputs": [],
   "source": [
    "# What are the valid quantitykinds\n",
    "# building_models = Graph()\n",
    "# building_models.parse(\"https://models.open223.info/compiled/nist-bdg1-1.ttl\", format = \"ttl\")\n",
    "# building_models.parse(\"https://models.open223.info/pnnl-bdg1-2.ttl\", format = \"ttl\")\n",
    "# building_models.parse(\"https://models.open223.info/pnnl-bdg2-1.ttl\", format = \"ttl\")\n",
    "# building_models.parse(\"https://models.open223.info/lbnl-bdg3-1.ttl\", format = \"ttl\")\n",
    "# building_models.parse(\"https://models.open223.info/lbnl-bdg4-1.ttl\", format = \"ttl\")\n",
    "\n",
    "\n",
    "# query = \"\"\" SELECT DISTINCT ?quantitykind WHERE {\n",
    "#     ?s qudt:hasQuantityKind ?quantitykind .\n",
    "# }\"\"\"\n",
    "# quantitykind_df = query_to_df(query, building_models)\n",
    "# display(quantitykind_df)\n",
    "\n",
    "# Completed by hand"
   ]
  },
  {
   "cell_type": "code",
   "execution_count": 210,
   "metadata": {},
   "outputs": [],
   "source": [
    "with open(\"quantitykinds.csv\", \"r\") as f:\n",
    "    quantitykinds = f.read()"
   ]
  },
  {
   "cell_type": "code",
   "execution_count": 214,
   "metadata": {},
   "outputs": [
    {
     "name": "stdout",
     "output_type": "stream",
     "text": [
      "brick_class: brick:Contact_Sensor\n",
      "definition: Senses or detects contact, such as for determining if a door is closed.\n",
      "s223_class: s223:Binary-Position\n"
     ]
    }
   ],
   "source": [
    "prompt = f\"\"\"\n",
    "Determine what quantitykind or enumerationkind the brick_class should be, based on its name and definition.\n",
    "the possible quantitykinds are <quantitykinds>{quantitykinds}</quantitykinds> \n",
    "the possible enumerationkinds are <s223_eks>{s223_eks}</s223_eks>\n",
    "Only return the quantitykind or enumerationkind. Do not return any other information.\n",
    "\n",
    "brick_class: {brick_class}\n",
    "definition: {definition}\n",
    "\"\"\"\n",
    "s223_class = get_completion(prompt, system_prompt)\n",
    "print(f\"brick_class: {brick_class}\")\n",
    "print(f\"definition: {definition}\")\n",
    "print(f\"s223_class: {s223_class}\")\n"
   ]
  },
  {
   "cell_type": "code",
   "execution_count": 217,
   "metadata": {},
   "outputs": [
    {
     "name": "stdout",
     "output_type": "stream",
     "text": [
      "brick_class: brick:Contact_Sensor\n",
      "definition: Senses or detects contact, such as for determining if a door is closed.\n",
      "s223_class: None\n"
     ]
    }
   ],
   "source": [
    "prompt = f\"\"\"\n",
    "Determine what medium the brick_class should be associated with, based on its name and definition.\n",
    "the possible media are <media>{s223_media}</media> \n",
    "Only return the quantitykind or enumerationkind. Do not return any other information.\n",
    "\n",
    "If there is no sensible medium, return None.\n",
    "\n",
    "brick_class: {brick_class}\n",
    "definition: {definition}\n",
    "\"\"\"\n",
    "s223_class = get_completion(prompt, system_prompt)\n",
    "print(f\"brick_class: {brick_class}\")\n",
    "print(f\"definition: {definition}\")\n",
    "print(f\"s223_class: {s223_class}\")\n"
   ]
  },
  {
   "cell_type": "code",
   "execution_count": null,
   "metadata": {},
   "outputs": [
    {
     "name": "stdout",
     "output_type": "stream",
     "text": [
      "brick_class: brick:Contact_Sensor\n",
      "definition: Senses or detects contact, such as for determining if a door is closed.\n",
      "s223_class: s223:Binary-Position\n"
     ]
    }
   ],
   "source": [
    "prompt = f\"\"\"\n",
    "Determine what aspects the brick_class should be associated with, based on its name and definition.\n",
    "the possible aspects are <aspects>{s223_aspects}</aspects> \n",
    "Only return the quantitykind or enumerationkind. Do not return any other information.\n",
    "\n",
    "If there is no sensible medium, return None.\n",
    "\n",
    "brick_class: {brick_class}\n",
    "definition: {definition}\n",
    "\"\"\"\n",
    "s223_class = get_completion(prompt, system_prompt)\n",
    "print(f\"brick_class: {brick_class}\")\n",
    "print(f\"definition: {definition}\")\n",
    "print(f\"s223_class: {s223_class}\")\n"
   ]
  },
  {
   "cell_type": "code",
   "execution_count": 23,
   "metadata": {},
   "outputs": [
    {
     "ename": "AttributeError",
     "evalue": "'NoneType' object has no attribute 'arguments'",
     "output_type": "error",
     "traceback": [
      "\u001b[0;31m---------------------------------------------------------------------------\u001b[0m",
      "\u001b[0;31mAttributeError\u001b[0m                            Traceback (most recent call last)",
      "Cell \u001b[0;32mIn[23], line 47\u001b[0m\n\u001b[1;32m     44\u001b[0m function_call \u001b[38;5;241m=\u001b[39m response\u001b[38;5;241m.\u001b[39mchoices[\u001b[38;5;241m0\u001b[39m]\u001b[38;5;241m.\u001b[39mmessage\u001b[38;5;241m.\u001b[39mfunction_call\n\u001b[1;32m     46\u001b[0m \u001b[38;5;66;03m# Parse the function arguments as JSON\u001b[39;00m\n\u001b[0;32m---> 47\u001b[0m parsed_response \u001b[38;5;241m=\u001b[39m json\u001b[38;5;241m.\u001b[39mloads(\u001b[43mfunction_call\u001b[49m\u001b[38;5;241;43m.\u001b[39;49m\u001b[43marguments\u001b[49m)\n\u001b[1;32m     48\u001b[0m single_word \u001b[38;5;241m=\u001b[39m parsed_response[\u001b[38;5;124m\"\u001b[39m\u001b[38;5;124mword\u001b[39m\u001b[38;5;124m\"\u001b[39m]\n\u001b[1;32m     50\u001b[0m \u001b[38;5;28mprint\u001b[39m(\u001b[38;5;124m\"\u001b[39m\u001b[38;5;124mThinking:\u001b[39m\u001b[38;5;124m\"\u001b[39m, thinking)\n",
      "\u001b[0;31mAttributeError\u001b[0m: 'NoneType' object has no attribute 'arguments'"
     ]
    }
   ],
   "source": [
    "from pydantic import BaseModel, Field\n",
    "import openai\n",
    "import json\n",
    "import yaml\n",
    "# Define your Pydantic model for a single word response\n",
    "class SingleWordResponse(BaseModel):\n",
    "    word: str = Field(description=\"A single word that represents the answer\")\n",
    "\n",
    "with open('/Users/lazlopaul/Desktop/cborg/api_key.yaml', 'r') as file:\n",
    "    config = yaml.safe_load(file)\n",
    "    API_KEY = config['key']\n",
    "    BASE_URL = config['base_url']\n",
    "\n",
    "client = openai.OpenAI(\n",
    "    api_key=API_KEY,\n",
    "    base_url=BASE_URL\n",
    ")\n",
    "\n",
    "# Create your prompt with thinking enabled\n",
    "response = client.chat.completions.create(\n",
    "    model=\"lbl/llama\",  # or another appropriate model\n",
    "    messages=[\n",
    "        {\"role\": \"system\", \"content\": \"You are an assistant that provides a a 1 sentence answer after careful consideration.\"},\n",
    "        {\"role\": \"user\", \"content\": f\"\"\"Determine what quantitykind or enumerationkind the brick_class should be, based on its name and definition.\n",
    "        the possible quantitykinds are <quantitykinds>{pd.read_csv(\"template_builder/data/quantitykinds.csv\").to_csv(index=False)}</quantitykinds> \n",
    "\n",
    "        brick_class: Temperature_Sensor\n",
    "        definition: A sensor measuring temperature\"\"\"}\n",
    "    ],\n",
    "    temperature=0.7,\n",
    "    # The key part - use function calling to get structured output\n",
    "    functions=[\n",
    "        {\n",
    "            \"name\": \"provide_single_word\",\n",
    "            \"description\": \"Provide a single word answer after thinking through the options\",\n",
    "            \"parameters\": SingleWordResponse.model_json_schema()\n",
    "        }\n",
    "    ],\n",
    "    function_call={\"name\": \"provide_single_word\"}\n",
    ")\n",
    "\n",
    "# Extract the thinking and structured response\n",
    "thinking = response.choices[0].message.content\n",
    "function_call = response.choices[0].message.function_call\n",
    "\n",
    "# Parse the function arguments as JSON\n",
    "parsed_response = json.loads(function_call.arguments)\n",
    "single_word = parsed_response[\"word\"]\n",
    "\n",
    "print(\"Thinking:\", thinking)\n",
    "print(\"Final answer:\", parsed_response)\n",
    "print(\"Just the word:\", single_word)"
   ]
  },
  {
   "cell_type": "code",
   "execution_count": 24,
   "metadata": {},
   "outputs": [],
   "source": [
    "function_call"
   ]
  },
  {
   "cell_type": "code",
   "execution_count": 25,
   "metadata": {},
   "outputs": [
    {
     "name": "stdout",
     "output_type": "stream",
     "text": [
      "ChatCompletion(\n",
      "    id='chatcmpl-ba5a83eafd1046a58f903c00d3742f3b',\n",
      "    choices=[\n",
      "        Choice(\n",
      "            finish_reason='stop',\n",
      "            index=0,\n",
      "            logprobs=None,\n",
      "            message=ChatCompletionMessage(\n",
      "                content=(\n",
      "                    'Based on the name \"Temperature_Sensor\" and its definition \"A sensor measuring temperature\", the `'\n",
      "                    'brick_class` should be of quantitykind `Temperature`.'\n",
      "                ),\n",
      "                refusal=None,\n",
      "                role='assistant',\n",
      "                annotations=None,\n",
      "                audio=None,\n",
      "                function_call=None,\n",
      "                tool_calls=None,\n",
      "            ),\n",
      "        ),\n",
      "    ],\n",
      "    created=1745359720,\n",
      "    model='lbl/llama',\n",
      "    object='chat.completion',\n",
      "    service_tier=None,\n",
      "    system_fingerprint=None,\n",
      "    usage=CompletionUsage(\n",
      "        completion_tokens=32,\n",
      "        prompt_tokens=146,\n",
      "        total_tokens=178,\n",
      "        completion_tokens_details=None,\n",
      "        prompt_tokens_details=None,\n",
      "    ),\n",
      "    prompt_logprobs=None,\n",
      ")\n"
     ]
    }
   ],
   "source": [
    "from devtools import pprint\n",
    "pprint(response)"
   ]
  },
  {
   "cell_type": "code",
   "execution_count": null,
   "metadata": {},
   "outputs": [
    {
     "name": "stdout",
     "output_type": "stream",
     "text": [
      "Paris\n"
     ]
    }
   ],
   "source": [
    "def get_single_word_response(prompt):\n",
    "    response = client.chat.completions.create(\n",
    "        model=\"lbl/llama\",  # or another model of your choice\n",
    "        messages=[\n",
    "            {\"role\": \"system\", \"content\": \"Think carefully about the question.\"},\n",
    "            {\"role\": \"user\", \"content\": prompt}\n",
    "        ],\n",
    "        tools=[{  # Note: newer versions use 'tools' instead of 'functions'\n",
    "            \"type\": \"function\",\n",
    "            \"function\": {\n",
    "                \"name\": \"provide_single_word\",\n",
    "                \"description\": \"Provide a single word as the answer\",\n",
    "                \"parameters\": {\n",
    "                    \"type\": \"object\",\n",
    "                    \"properties\": {\n",
    "                        \"word\": {\n",
    "                            \"type\": \"string\",\n",
    "                            \"description\": \"The single word answer\"\n",
    "                        }\n",
    "                    },\n",
    "                    \"required\": [\"word\"]\n",
    "                }\n",
    "            }\n",
    "        }],\n",
    "        tool_choice={\"type\": \"function\", \"function\": {\"name\": \"provide_single_word\"}}  # Force use of this tool\n",
    "    )\n",
    "    \n",
    "    # Extract the single word from the function call\n",
    "    tool_call = response.choices[0].message.tool_calls[0]\n",
    "    function_args = json.loads(tool_call.function.arguments)\n",
    "    \n",
    "    return function_args.get(\"word\")\n",
    "\n",
    "# Example usage\n",
    "prompt = \"What's the capital of France? Think carefully.\"\n",
    "result = get_single_word_response(prompt)\n",
    "print(result)  # Should output: \"Paris\""
   ]
  },
  {
   "cell_type": "code",
   "execution_count": 28,
   "metadata": {},
   "outputs": [],
   "source": [
    "prop_query = \"\"\" SELECT DISTINCT ?s223_class ?s223_definition WHERE {\n",
    "        ?s223_class rdfs:subClassOf* s223:Property ;\n",
    "        rdfs:comment ?s223_definition .\n",
    "        FILTER NOT EXISTS {\n",
    "            ?s223_class qudt:hasQuantityKind ?qk .\n",
    "        }\n",
    "        FILTER NOT EXISTS {\n",
    "            ?s223_class2 rdfs:subClassOf ?s223_class .\n",
    "        }\n",
    "        FILTER(STRSTARTS (str(?s223_class), \\\"http://data.ashrae.org/standard223#\\\"))\n",
    "    }\n",
    "    \"\"\"\n",
    "prop_df = query_to_df(prop_query, s223, remove_namespaces=True)"
   ]
  },
  {
   "cell_type": "code",
   "execution_count": 29,
   "metadata": {},
   "outputs": [
    {
     "data": {
      "application/vnd.microsoft.datawrangler.viewer.v0+json": {
       "columns": [
        {
         "name": "index",
         "rawType": "int64",
         "type": "integer"
        },
        {
         "name": "s223_class",
         "rawType": "object",
         "type": "string"
        },
        {
         "name": "s223_definition",
         "rawType": "object",
         "type": "string"
        }
       ],
       "conversionMethod": "pd.DataFrame",
       "ref": "74b6a734-4beb-4392-86ee-6128f4bcc4c9",
       "rows": [
        [
         "0",
         "EnumeratedActuatableProperty",
         "An `EnumeratedActuatableProperty` is a `Property` with an enumerated (fixed) set of possible values that can be changed (actuated)."
        ],
        [
         "1",
         "EnumeratedObservableProperty",
         "An `EnumeratedObservableProperty` is a `Property` with an enumerated (fixed) set of possible values that cannot be changed (can only be observed)."
        ],
        [
         "2",
         "QuantifiableObservableProperty",
         "This class is for instances of `QuantifiableProperty` for which numerical values are observed, like a temperature reading or a voltage measure."
        ],
        [
         "3",
         "QuantifiableActuatableProperty",
         "This class is for instances of `QuantifiableProperty` for which numerical values are specified to be modifiable by a user or a machine outside of the model, like a setpoint."
        ]
       ],
       "shape": {
        "columns": 2,
        "rows": 4
       }
      },
      "text/html": [
       "<div>\n",
       "<style scoped>\n",
       "    .dataframe tbody tr th:only-of-type {\n",
       "        vertical-align: middle;\n",
       "    }\n",
       "\n",
       "    .dataframe tbody tr th {\n",
       "        vertical-align: top;\n",
       "    }\n",
       "\n",
       "    .dataframe thead th {\n",
       "        text-align: right;\n",
       "    }\n",
       "</style>\n",
       "<table border=\"1\" class=\"dataframe\">\n",
       "  <thead>\n",
       "    <tr style=\"text-align: right;\">\n",
       "      <th></th>\n",
       "      <th>s223_class</th>\n",
       "      <th>s223_definition</th>\n",
       "    </tr>\n",
       "  </thead>\n",
       "  <tbody>\n",
       "    <tr>\n",
       "      <th>0</th>\n",
       "      <td>EnumeratedActuatableProperty</td>\n",
       "      <td>An `EnumeratedActuatableProperty` is a `Proper...</td>\n",
       "    </tr>\n",
       "    <tr>\n",
       "      <th>1</th>\n",
       "      <td>EnumeratedObservableProperty</td>\n",
       "      <td>An `EnumeratedObservableProperty` is a `Proper...</td>\n",
       "    </tr>\n",
       "    <tr>\n",
       "      <th>2</th>\n",
       "      <td>QuantifiableObservableProperty</td>\n",
       "      <td>This class is for instances of `QuantifiablePr...</td>\n",
       "    </tr>\n",
       "    <tr>\n",
       "      <th>3</th>\n",
       "      <td>QuantifiableActuatableProperty</td>\n",
       "      <td>This class is for instances of `QuantifiablePr...</td>\n",
       "    </tr>\n",
       "  </tbody>\n",
       "</table>\n",
       "</div>"
      ],
      "text/plain": [
       "                       s223_class  \\\n",
       "0    EnumeratedActuatableProperty   \n",
       "1    EnumeratedObservableProperty   \n",
       "2  QuantifiableObservableProperty   \n",
       "3  QuantifiableActuatableProperty   \n",
       "\n",
       "                                     s223_definition  \n",
       "0  An `EnumeratedActuatableProperty` is a `Proper...  \n",
       "1  An `EnumeratedObservableProperty` is a `Proper...  \n",
       "2  This class is for instances of `QuantifiablePr...  \n",
       "3  This class is for instances of `QuantifiablePr...  "
      ]
     },
     "execution_count": 29,
     "metadata": {},
     "output_type": "execute_result"
    }
   ],
   "source": [
    "prop_df"
   ]
  },
  {
   "cell_type": "code",
   "execution_count": null,
   "metadata": {},
   "outputs": [],
   "source": []
  }
 ],
 "metadata": {
  "kernelspec": {
   "display_name": ".venv",
   "language": "python",
   "name": "python3"
  },
  "language_info": {
   "codemirror_mode": {
    "name": "ipython",
    "version": 3
   },
   "file_extension": ".py",
   "mimetype": "text/x-python",
   "name": "python",
   "nbconvert_exporter": "python",
   "pygments_lexer": "ipython3",
   "version": "3.10.0"
  }
 },
 "nbformat": 4,
 "nbformat_minor": 2
}
